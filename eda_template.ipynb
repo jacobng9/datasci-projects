{
 "cells": [
  {
   "cell_type": "markdown",
   "metadata": {
    "cell_id": "dea50a85adce443584ffb42b3efa546f",
    "deepnote_cell_type": "markdown"
   },
   "source": [
    "# Insert Title Here"
   ]
  },
  {
   "cell_type": "markdown",
   "metadata": {
    "cell_id": "e33a18bf99fb45fd9732a2c0f40a47ef",
    "deepnote_cell_type": "markdown"
   },
   "source": [
    "## Table of Contents\n",
    "\n",
    "1. [**Introduction**](#1)\n",
    "    - Project Description\n",
    "    - Data Description\n",
    "2. [**Acquiring and Loading Data**](#2)\n",
    "\t- Importing Libraries and Notebook Setup\n",
    "    - Loading Data\n",
    "    - Basic Data Exploration\n",
    "    - Areas to Fix\n",
    "3. [**Data Proprocessing**](#3)\n",
    "4. [**Data Analysis**](#4)\n",
    "5. [**Conclusion**](#5)\n",
    "    - Insights\n",
    "    - Suggestions\n",
    "    - Possible Next Steps\n",
    "6. [**Epilogue**](#6) \n",
    "    - References\n",
    "    - Versioning"
   ]
  },
  {
   "cell_type": "markdown",
   "metadata": {
    "cell_id": "27427f016f404aea882fb641b271af6d",
    "deepnote_cell_type": "markdown"
   },
   "source": [
    "---"
   ]
  },
  {
   "cell_type": "markdown",
   "metadata": {
    "cell_id": "4940223da4824d19ae71f85419acc1f2",
    "deepnote_cell_type": "markdown"
   },
   "source": [
    "# 1"
   ]
  },
  {
   "cell_type": "markdown",
   "metadata": {
    "cell_id": "0c9dd6d13705490d95c05a558a431682",
    "deepnote_cell_type": "markdown"
   },
   "source": [
    "## Introduction\n",
    "\n",
    "Insert Image Here (by dragging it)\n",
    "\n",
    "### Project Description\n",
    "\n",
    "**Goal/Purpose:** \n",
    "\n",
    "What is this project about? What is the the goal/purpose of this project? Why is it important for someone to read this notebook?\n",
    "\n",
    "<p>&nbsp;</p>\n",
    "\n",
    "**Questions to be Answered:**\n",
    "\n",
    "- Question 1\n",
    "- Question 2\n",
    "- Question 3...\n",
    "\n",
    "<p>&nbsp;</p>\n",
    "\n",
    "**Assumptions/Methodology/Scope:** \n",
    "\n",
    "Briefly describe assumptions, processing steps, and the scope of this project.\n",
    "\n",
    "<p>&nbsp;</p>\n",
    "\n",
    "### Data Description\n",
    "\n",
    "**Content:** \n",
    "\n",
    "This dataset is a _(filetype) file of _(how many) data points which contains ___. \n",
    "\n",
    "<p>&nbsp;</p>\n",
    "\n",
    "**Description of Attributes:** \n",
    "\n",
    "Here you can describe what each column represents.\n",
    "\n",
    "| Column  | Description |\n",
    "| :------ | :---------- |\n",
    "| column1 | description1 |\n",
    "\n",
    "<p>&nbsp;</p>\n",
    "\n",
    "**Acknowledgements:** \n",
    "\n",
    "This dataset is provided by _(. The original dataset was scraped by _) and the original source can be found on [website](https://website.link)."
   ]
  },
  {
   "cell_type": "markdown",
   "metadata": {
    "cell_id": "902dd7f04d87465ebaa929248fbc8aae",
    "deepnote_cell_type": "markdown"
   },
   "source": [
    "---"
   ]
  },
  {
   "cell_type": "markdown",
   "metadata": {
    "cell_id": "8fa36344d6a84f0390d36693adb9255b",
    "deepnote_cell_type": "markdown"
   },
   "source": [
    "# 2"
   ]
  },
  {
   "cell_type": "markdown",
   "metadata": {
    "cell_id": "66ecdc87fd09411e988c940de5fe5003",
    "deepnote_cell_type": "markdown"
   },
   "source": [
    "## Acquiring and Loading Data\n",
    "### Importing Libraries and Notebook Setup"
   ]
  },
  {
   "cell_type": "code",
   "execution_count": 1,
   "metadata": {
    "cell_id": "a7fdb0c270574faa93ed4615564f26d0",
    "deepnote_cell_type": "code",
    "deepnote_to_be_reexecuted": false,
    "execution_millis": 12025,
    "execution_start": 1684082020904,
    "source_hash": "e2899632"
   },
   "outputs": [
    {
     "name": "stdout",
     "output_type": "stream",
     "text": [
      "Collecting skimpy\n",
      "  Downloading skimpy-0.0.8-py3-none-any.whl (14 kB)\n",
      "Collecting jupyter<2.0.0,>=1.0.0\n",
      "  Downloading jupyter-1.0.0-py2.py3-none-any.whl (2.7 kB)\n",
      "Requirement already satisfied: ipykernel<7.0.0,>=6.7.0 in /shared-libs/python3.9/py-core/lib/python3.9/site-packages (from skimpy) (6.16.1)\n",
      "Requirement already satisfied: Pygments<3.0.0,>=2.10.0 in /shared-libs/python3.9/py-core/lib/python3.9/site-packages (from skimpy) (2.13.0)\n",
      "Requirement already satisfied: numpy<2.0.0,>=1.22.2 in /shared-libs/python3.9/py/lib/python3.9/site-packages (from skimpy) (1.23.4)\n",
      "Collecting pandas<2.0.0,>=1.3.2\n",
      "  Downloading pandas-1.5.3-cp39-cp39-manylinux_2_17_x86_64.manylinux2014_x86_64.whl (12.2 MB)\n",
      "\u001b[2K     \u001b[90m━━━━━━━━━━━━━━━━━━━━━━━━━━━━━━━━━━━━━━━━\u001b[0m \u001b[32m12.2/12.2 MB\u001b[0m \u001b[31m85.3 MB/s\u001b[0m eta \u001b[36m0:00:00\u001b[0m\n",
      "\u001b[?25hRequirement already satisfied: click<9.0.0,>=8.1.3 in /shared-libs/python3.9/py/lib/python3.9/site-packages (from skimpy) (8.1.3)\n",
      "Collecting rich<13.0,>=10.9\n",
      "  Downloading rich-12.6.0-py3-none-any.whl (237 kB)\n",
      "\u001b[2K     \u001b[90m━━━━━━━━━━━━━━━━━━━━━━━━━━━━━━━━━━━━━━\u001b[0m \u001b[32m237.5/237.5 KB\u001b[0m \u001b[31m34.1 MB/s\u001b[0m eta \u001b[36m0:00:00\u001b[0m\n",
      "\u001b[?25hCollecting typeguard<3.0.0,>=2.12.1\n",
      "  Downloading typeguard-2.13.3-py3-none-any.whl (17 kB)\n",
      "Requirement already satisfied: pyzmq>=17 in /shared-libs/python3.9/py-core/lib/python3.9/site-packages (from ipykernel<7.0.0,>=6.7.0->skimpy) (24.0.1)\n",
      "Requirement already satisfied: nest-asyncio in /shared-libs/python3.9/py-core/lib/python3.9/site-packages (from ipykernel<7.0.0,>=6.7.0->skimpy) (1.5.6)\n",
      "Requirement already satisfied: matplotlib-inline>=0.1 in /shared-libs/python3.9/py-core/lib/python3.9/site-packages (from ipykernel<7.0.0,>=6.7.0->skimpy) (0.1.6)\n",
      "Requirement already satisfied: packaging in /shared-libs/python3.9/py-core/lib/python3.9/site-packages (from ipykernel<7.0.0,>=6.7.0->skimpy) (21.3)\n",
      "Requirement already satisfied: jupyter-client>=6.1.12 in /shared-libs/python3.9/py-core/lib/python3.9/site-packages (from ipykernel<7.0.0,>=6.7.0->skimpy) (7.4.3)\n",
      "Requirement already satisfied: psutil in /shared-libs/python3.9/py-core/lib/python3.9/site-packages (from ipykernel<7.0.0,>=6.7.0->skimpy) (5.9.3)\n",
      "Requirement already satisfied: traitlets>=5.1.0 in /shared-libs/python3.9/py-core/lib/python3.9/site-packages (from ipykernel<7.0.0,>=6.7.0->skimpy) (5.5.0)\n",
      "Requirement already satisfied: debugpy>=1.0 in /shared-libs/python3.9/py-core/lib/python3.9/site-packages (from ipykernel<7.0.0,>=6.7.0->skimpy) (1.6.3)\n",
      "Requirement already satisfied: ipython>=7.23.1 in /shared-libs/python3.9/py-core/lib/python3.9/site-packages (from ipykernel<7.0.0,>=6.7.0->skimpy) (8.5.0)\n",
      "Requirement already satisfied: tornado>=6.1 in /shared-libs/python3.9/py-core/lib/python3.9/site-packages (from ipykernel<7.0.0,>=6.7.0->skimpy) (6.2)\n",
      "Requirement already satisfied: notebook in /shared-libs/python3.9/py-core/lib/python3.9/site-packages (from jupyter<2.0.0,>=1.0.0->skimpy) (6.5.1)\n",
      "Requirement already satisfied: nbconvert in /shared-libs/python3.9/py-core/lib/python3.9/site-packages (from jupyter<2.0.0,>=1.0.0->skimpy) (6.4.5)\n",
      "Collecting ipywidgets\n",
      "  Downloading ipywidgets-8.0.6-py3-none-any.whl (138 kB)\n",
      "\u001b[2K     \u001b[90m━━━━━━━━━━━━━━━━━━━━━━━━━━━━━━━━━━━━━━\u001b[0m \u001b[32m138.3/138.3 KB\u001b[0m \u001b[31m19.6 MB/s\u001b[0m eta \u001b[36m0:00:00\u001b[0m\n",
      "\u001b[?25hCollecting jupyter-console\n",
      "  Downloading jupyter_console-6.6.3-py3-none-any.whl (24 kB)\n",
      "Collecting qtconsole\n",
      "  Downloading qtconsole-5.4.3-py3-none-any.whl (121 kB)\n",
      "\u001b[2K     \u001b[90m━━━━━━━━━━━━━━━━━━━━━━━━━━━━━━━━━━━━━━\u001b[0m \u001b[32m121.9/121.9 KB\u001b[0m \u001b[31m34.4 MB/s\u001b[0m eta \u001b[36m0:00:00\u001b[0m\n",
      "\u001b[?25hRequirement already satisfied: pytz>=2020.1 in /shared-libs/python3.9/py/lib/python3.9/site-packages (from pandas<2.0.0,>=1.3.2->skimpy) (2022.5)\n",
      "Requirement already satisfied: python-dateutil>=2.8.1 in /shared-libs/python3.9/py-core/lib/python3.9/site-packages (from pandas<2.0.0,>=1.3.2->skimpy) (2.8.2)\n",
      "Collecting commonmark<0.10.0,>=0.9.0\n",
      "  Downloading commonmark-0.9.1-py2.py3-none-any.whl (51 kB)\n",
      "\u001b[2K     \u001b[90m━━━━━━━━━━━━━━━━━━━━━━━━━━━━━━━━━━━━━━━━\u001b[0m \u001b[32m51.1/51.1 KB\u001b[0m \u001b[31m10.1 MB/s\u001b[0m eta \u001b[36m0:00:00\u001b[0m\n",
      "\u001b[?25hRequirement already satisfied: stack-data in /shared-libs/python3.9/py-core/lib/python3.9/site-packages (from ipython>=7.23.1->ipykernel<7.0.0,>=6.7.0->skimpy) (0.5.1)\n",
      "Requirement already satisfied: jedi>=0.16 in /shared-libs/python3.9/py-core/lib/python3.9/site-packages (from ipython>=7.23.1->ipykernel<7.0.0,>=6.7.0->skimpy) (0.17.2)\n",
      "Requirement already satisfied: pexpect>4.3 in /shared-libs/python3.9/py-core/lib/python3.9/site-packages (from ipython>=7.23.1->ipykernel<7.0.0,>=6.7.0->skimpy) (4.8.0)\n",
      "Requirement already satisfied: backcall in /shared-libs/python3.9/py-core/lib/python3.9/site-packages (from ipython>=7.23.1->ipykernel<7.0.0,>=6.7.0->skimpy) (0.2.0)\n",
      "Requirement already satisfied: prompt-toolkit<3.1.0,>3.0.1 in /shared-libs/python3.9/py-core/lib/python3.9/site-packages (from ipython>=7.23.1->ipykernel<7.0.0,>=6.7.0->skimpy) (3.0.31)\n",
      "Requirement already satisfied: pickleshare in /shared-libs/python3.9/py-core/lib/python3.9/site-packages (from ipython>=7.23.1->ipykernel<7.0.0,>=6.7.0->skimpy) (0.7.5)\n",
      "Requirement already satisfied: decorator in /shared-libs/python3.9/py-core/lib/python3.9/site-packages (from ipython>=7.23.1->ipykernel<7.0.0,>=6.7.0->skimpy) (5.1.1)\n",
      "Requirement already satisfied: entrypoints in /shared-libs/python3.9/py-core/lib/python3.9/site-packages (from jupyter-client>=6.1.12->ipykernel<7.0.0,>=6.7.0->skimpy) (0.4)\n",
      "Requirement already satisfied: jupyter-core>=4.9.2 in /shared-libs/python3.9/py-core/lib/python3.9/site-packages (from jupyter-client>=6.1.12->ipykernel<7.0.0,>=6.7.0->skimpy) (4.11.2)\n",
      "Requirement already satisfied: six>=1.5 in /shared-libs/python3.9/py-core/lib/python3.9/site-packages (from python-dateutil>=2.8.1->pandas<2.0.0,>=1.3.2->skimpy) (1.16.0)\n",
      "Collecting widgetsnbextension~=4.0.7\n",
      "  Downloading widgetsnbextension-4.0.7-py3-none-any.whl (2.1 MB)\n",
      "\u001b[2K     \u001b[90m━━━━━━━━━━━━━━━━━━━━━━━━━━━━━━━━━━━━━━━━\u001b[0m \u001b[32m2.1/2.1 MB\u001b[0m \u001b[31m124.3 MB/s\u001b[0m eta \u001b[36m0:00:00\u001b[0m\n",
      "\u001b[?25hCollecting jupyterlab-widgets~=3.0.7\n",
      "  Downloading jupyterlab_widgets-3.0.7-py3-none-any.whl (198 kB)\n",
      "\u001b[2K     \u001b[90m━━━━━━━━━━━━━━━━━━━━━━━━━━━━━━━━━━━━━━\u001b[0m \u001b[32m198.2/198.2 KB\u001b[0m \u001b[31m42.8 MB/s\u001b[0m eta \u001b[36m0:00:00\u001b[0m\n",
      "\u001b[?25hCollecting jupyter-core>=4.9.2\n",
      "  Downloading jupyter_core-5.3.0-py3-none-any.whl (93 kB)\n",
      "\u001b[2K     \u001b[90m━━━━━━━━━━━━━━━━━━━━━━━━━━━━━━━━━━━━━━━━\u001b[0m \u001b[32m93.2/93.2 KB\u001b[0m \u001b[31m21.7 MB/s\u001b[0m eta \u001b[36m0:00:00\u001b[0m\n",
      "\u001b[?25hRequirement already satisfied: jupyterlab-pygments in /shared-libs/python3.9/py-core/lib/python3.9/site-packages (from nbconvert->jupyter<2.0.0,>=1.0.0->skimpy) (0.2.2)\n",
      "Requirement already satisfied: defusedxml in /shared-libs/python3.9/py-core/lib/python3.9/site-packages (from nbconvert->jupyter<2.0.0,>=1.0.0->skimpy) (0.7.1)\n",
      "Requirement already satisfied: nbclient<0.6.0,>=0.5.0 in /shared-libs/python3.9/py-core/lib/python3.9/site-packages (from nbconvert->jupyter<2.0.0,>=1.0.0->skimpy) (0.5.13)\n",
      "Requirement already satisfied: nbformat>=4.4 in /shared-libs/python3.9/py-core/lib/python3.9/site-packages (from nbconvert->jupyter<2.0.0,>=1.0.0->skimpy) (5.7.0)\n",
      "Requirement already satisfied: beautifulsoup4 in /shared-libs/python3.9/py-core/lib/python3.9/site-packages (from nbconvert->jupyter<2.0.0,>=1.0.0->skimpy) (4.11.1)\n",
      "Requirement already satisfied: MarkupSafe>=2.0 in /shared-libs/python3.9/py-core/lib/python3.9/site-packages (from nbconvert->jupyter<2.0.0,>=1.0.0->skimpy) (2.0.0)\n",
      "Requirement already satisfied: pandocfilters>=1.4.1 in /shared-libs/python3.9/py-core/lib/python3.9/site-packages (from nbconvert->jupyter<2.0.0,>=1.0.0->skimpy) (1.5.0)\n",
      "Requirement already satisfied: jinja2>=2.4 in /shared-libs/python3.9/py-core/lib/python3.9/site-packages (from nbconvert->jupyter<2.0.0,>=1.0.0->skimpy) (2.11.3)\n",
      "Requirement already satisfied: bleach in /shared-libs/python3.9/py-core/lib/python3.9/site-packages (from nbconvert->jupyter<2.0.0,>=1.0.0->skimpy) (5.0.1)\n",
      "Requirement already satisfied: mistune<2,>=0.8.1 in /shared-libs/python3.9/py-core/lib/python3.9/site-packages (from nbconvert->jupyter<2.0.0,>=1.0.0->skimpy) (0.8.4)\n",
      "Requirement already satisfied: testpath in /shared-libs/python3.9/py-core/lib/python3.9/site-packages (from nbconvert->jupyter<2.0.0,>=1.0.0->skimpy) (0.6.0)\n",
      "Requirement already satisfied: terminado>=0.8.3 in /shared-libs/python3.9/py-core/lib/python3.9/site-packages (from notebook->jupyter<2.0.0,>=1.0.0->skimpy) (0.16.0)\n",
      "Requirement already satisfied: argon2-cffi in /shared-libs/python3.9/py-core/lib/python3.9/site-packages (from notebook->jupyter<2.0.0,>=1.0.0->skimpy) (21.3.0)\n",
      "Requirement already satisfied: prometheus-client in /shared-libs/python3.9/py-core/lib/python3.9/site-packages (from notebook->jupyter<2.0.0,>=1.0.0->skimpy) (0.15.0)\n",
      "Requirement already satisfied: nbclassic==0.4.5 in /shared-libs/python3.9/py-core/lib/python3.9/site-packages (from notebook->jupyter<2.0.0,>=1.0.0->skimpy) (0.4.5)\n",
      "Requirement already satisfied: Send2Trash>=1.8.0 in /shared-libs/python3.9/py-core/lib/python3.9/site-packages (from notebook->jupyter<2.0.0,>=1.0.0->skimpy) (1.8.0)\n",
      "Requirement already satisfied: ipython-genutils in /shared-libs/python3.9/py-core/lib/python3.9/site-packages (from notebook->jupyter<2.0.0,>=1.0.0->skimpy) (0.2.0)\n",
      "Requirement already satisfied: jupyter-server>=1.8 in /shared-libs/python3.9/py-core/lib/python3.9/site-packages (from nbclassic==0.4.5->notebook->jupyter<2.0.0,>=1.0.0->skimpy) (1.21.0)\n",
      "Requirement already satisfied: notebook-shim>=0.1.0 in /shared-libs/python3.9/py-core/lib/python3.9/site-packages (from nbclassic==0.4.5->notebook->jupyter<2.0.0,>=1.0.0->skimpy) (0.2.0)\n",
      "Requirement already satisfied: pyparsing!=3.0.5,>=2.0.2 in /shared-libs/python3.9/py-core/lib/python3.9/site-packages (from packaging->ipykernel<7.0.0,>=6.7.0->skimpy) (3.0.9)\n",
      "Collecting qtpy>=2.0.1\n",
      "  Downloading QtPy-2.3.1-py3-none-any.whl (84 kB)\n",
      "\u001b[2K     \u001b[90m━━━━━━━━━━━━━━━━━━━━━━━━━━━━━━━━━━━━━━━━\u001b[0m \u001b[32m84.9/84.9 KB\u001b[0m \u001b[31m20.4 MB/s\u001b[0m eta \u001b[36m0:00:00\u001b[0m\n",
      "\u001b[?25hRequirement already satisfied: parso<0.8.0,>=0.7.0 in /shared-libs/python3.9/py-core/lib/python3.9/site-packages (from jedi>=0.16->ipython>=7.23.1->ipykernel<7.0.0,>=6.7.0->skimpy) (0.7.1)\n",
      "Collecting platformdirs>=2.5\n",
      "  Downloading platformdirs-3.5.1-py3-none-any.whl (15 kB)\n",
      "Requirement already satisfied: jsonschema>=2.6 in /shared-libs/python3.9/py-core/lib/python3.9/site-packages (from nbformat>=4.4->nbconvert->jupyter<2.0.0,>=1.0.0->skimpy) (3.2.0)\n",
      "Requirement already satisfied: fastjsonschema in /shared-libs/python3.9/py-core/lib/python3.9/site-packages (from nbformat>=4.4->nbconvert->jupyter<2.0.0,>=1.0.0->skimpy) (2.16.2)\n",
      "Requirement already satisfied: ptyprocess>=0.5 in /shared-libs/python3.9/py-core/lib/python3.9/site-packages (from pexpect>4.3->ipython>=7.23.1->ipykernel<7.0.0,>=6.7.0->skimpy) (0.7.0)\n",
      "Requirement already satisfied: wcwidth in /shared-libs/python3.9/py-core/lib/python3.9/site-packages (from prompt-toolkit<3.1.0,>3.0.1->ipython>=7.23.1->ipykernel<7.0.0,>=6.7.0->skimpy) (0.2.5)\n",
      "Requirement already satisfied: argon2-cffi-bindings in /shared-libs/python3.9/py-core/lib/python3.9/site-packages (from argon2-cffi->notebook->jupyter<2.0.0,>=1.0.0->skimpy) (21.2.0)\n",
      "Requirement already satisfied: soupsieve>1.2 in /shared-libs/python3.9/py-core/lib/python3.9/site-packages (from beautifulsoup4->nbconvert->jupyter<2.0.0,>=1.0.0->skimpy) (2.3.2.post1)\n",
      "Requirement already satisfied: webencodings in /shared-libs/python3.9/py-core/lib/python3.9/site-packages (from bleach->nbconvert->jupyter<2.0.0,>=1.0.0->skimpy) (0.5.1)\n",
      "Requirement already satisfied: asttokens in /shared-libs/python3.9/py-core/lib/python3.9/site-packages (from stack-data->ipython>=7.23.1->ipykernel<7.0.0,>=6.7.0->skimpy) (2.0.8)\n",
      "Requirement already satisfied: executing in /shared-libs/python3.9/py-core/lib/python3.9/site-packages (from stack-data->ipython>=7.23.1->ipykernel<7.0.0,>=6.7.0->skimpy) (1.1.1)\n",
      "Requirement already satisfied: pure-eval in /shared-libs/python3.9/py-core/lib/python3.9/site-packages (from stack-data->ipython>=7.23.1->ipykernel<7.0.0,>=6.7.0->skimpy) (0.2.2)\n",
      "Requirement already satisfied: setuptools in /root/venv/lib/python3.9/site-packages (from jsonschema>=2.6->nbformat>=4.4->nbconvert->jupyter<2.0.0,>=1.0.0->skimpy) (58.1.0)\n",
      "Requirement already satisfied: pyrsistent>=0.14.0 in /shared-libs/python3.9/py-core/lib/python3.9/site-packages (from jsonschema>=2.6->nbformat>=4.4->nbconvert->jupyter<2.0.0,>=1.0.0->skimpy) (0.18.1)\n",
      "Requirement already satisfied: attrs>=17.4.0 in /shared-libs/python3.9/py-core/lib/python3.9/site-packages (from jsonschema>=2.6->nbformat>=4.4->nbconvert->jupyter<2.0.0,>=1.0.0->skimpy) (22.1.0)\n",
      "Requirement already satisfied: anyio<4,>=3.1.0 in /shared-libs/python3.9/py-core/lib/python3.9/site-packages (from jupyter-server>=1.8->nbclassic==0.4.5->notebook->jupyter<2.0.0,>=1.0.0->skimpy) (3.6.2)\n",
      "Requirement already satisfied: websocket-client in /shared-libs/python3.9/py-core/lib/python3.9/site-packages (from jupyter-server>=1.8->nbclassic==0.4.5->notebook->jupyter<2.0.0,>=1.0.0->skimpy) (1.4.1)\n",
      "Requirement already satisfied: cffi>=1.0.1 in /shared-libs/python3.9/py-core/lib/python3.9/site-packages (from argon2-cffi-bindings->argon2-cffi->notebook->jupyter<2.0.0,>=1.0.0->skimpy) (1.15.1)\n",
      "Requirement already satisfied: sniffio>=1.1 in /shared-libs/python3.9/py-core/lib/python3.9/site-packages (from anyio<4,>=3.1.0->jupyter-server>=1.8->nbclassic==0.4.5->notebook->jupyter<2.0.0,>=1.0.0->skimpy) (1.3.0)\n",
      "Requirement already satisfied: idna>=2.8 in /shared-libs/python3.9/py-core/lib/python3.9/site-packages (from anyio<4,>=3.1.0->jupyter-server>=1.8->nbclassic==0.4.5->notebook->jupyter<2.0.0,>=1.0.0->skimpy) (3.4)\n",
      "Requirement already satisfied: pycparser in /shared-libs/python3.9/py-core/lib/python3.9/site-packages (from cffi>=1.0.1->argon2-cffi-bindings->argon2-cffi->notebook->jupyter<2.0.0,>=1.0.0->skimpy) (2.21)\n",
      "Installing collected packages: commonmark, widgetsnbextension, typeguard, rich, platformdirs, jupyterlab-widgets, qtpy, pandas, jupyter-core, qtconsole, jupyter-console, ipywidgets, jupyter, skimpy\n",
      "  Attempting uninstall: pandas\n",
      "    Found existing installation: pandas 1.2.5\n",
      "    Not uninstalling pandas at /shared-libs/python3.9/py/lib/python3.9/site-packages, outside environment /root/venv\n",
      "    Can't uninstall 'pandas'. No files were found to uninstall.\n",
      "  Attempting uninstall: jupyter-core\n",
      "    Found existing installation: jupyter_core 4.11.2\n",
      "    Not uninstalling jupyter-core at /shared-libs/python3.9/py-core/lib/python3.9/site-packages, outside environment /root/venv\n",
      "    Can't uninstall 'jupyter_core'. No files were found to uninstall.\n",
      "Successfully installed commonmark-0.9.1 ipywidgets-8.0.6 jupyter-1.0.0 jupyter-console-6.6.3 jupyter-core-5.3.0 jupyterlab-widgets-3.0.7 pandas-1.5.3 platformdirs-3.5.1 qtconsole-5.4.3 qtpy-2.3.1 rich-12.6.0 skimpy-0.0.8 typeguard-2.13.3 widgetsnbextension-4.0.7\n",
      "\u001b[33mWARNING: You are using pip version 22.0.4; however, version 23.1.2 is available.\n",
      "You should consider upgrading via the '/root/venv/bin/python -m pip install --upgrade pip' command.\u001b[0m\u001b[33m\n",
      "\u001b[0m"
     ]
    }
   ],
   "source": [
    "# Install libraries\n",
    "!pip install skimpy"
   ]
  },
  {
   "cell_type": "code",
   "execution_count": 2,
   "metadata": {
    "cell_id": "7652fdf0134f4d6091689d0ca0fdf2e5",
    "deepnote_cell_type": "code",
    "deepnote_to_be_reexecuted": false,
    "execution_millis": 1489,
    "execution_start": 1684082032937,
    "source_hash": "ab774905"
   },
   "outputs": [],
   "source": [
    "# Data manipulation\n",
    "import datetime\n",
    "import numpy as np\n",
    "import pandas as pd\n",
    "import pandas.api.types as ptypes\n",
    "from skimpy import skim, clean_columns\n",
    "\n",
    "# Visualizations\n",
    "import matplotlib.pyplot as plt\n",
    "import seaborn as sns\n",
    "%matplotlib inline\n",
    "\n",
    "# Pandas settings\n",
    "pd.options.display.max_columns = None\n",
    "pd.options.display.max_colwidth = 60\n",
    "pd.options.display.float_format = '{:,.3f}'.format\n",
    "\n",
    "# Visualization settings\n",
    "from matplotlib import rcParams\n",
    "plt.style.use('fivethirtyeight')\n",
    "rcParams['figure.figsize'] = (16, 5)   \n",
    "rcParams['axes.spines.right'] = False\n",
    "rcParams['axes.spines.top'] = False\n",
    "rcParams['font.size'] = 12\n",
    "# rcParams['figure.dpi'] = 300\n",
    "rcParams['savefig.dpi'] = 300\n",
    "plt.rc('xtick', labelsize=11)\n",
    "plt.rc('ytick', labelsize=11)\n",
    "custom_palette = ['#003f5c', '#444e86', '#955196', '#dd5182', '#ff6e54', '#ffa600']\n",
    "custom_hue = ['#004c6d', '#346888', '#5886a5', '#7aa6c2', '#9dc6e0', '#c1e7ff']\n",
    "custom_divergent = ['#00876c', '#6aaa96', '#aecdc2', '#f1f1f1', '#f0b8b8', '#e67f83', '#d43d51']\n",
    "sns.set_palette(custom_palette)\n",
    "%config InlineBackend.figure_format = 'retina'"
   ]
  },
  {
   "cell_type": "markdown",
   "metadata": {
    "cell_id": "5a64877afc224dccbfb11b10f59221fd",
    "deepnote_cell_type": "markdown"
   },
   "source": [
    "### Loading Data"
   ]
  },
  {
   "cell_type": "code",
   "execution_count": 3,
   "metadata": {
    "cell_id": "310231887a074cabb1ba7abea7b991bf",
    "deepnote_cell_type": "code",
    "deepnote_to_be_reexecuted": false,
    "execution_millis": 1,
    "execution_start": 1684082034439,
    "source_hash": "2a9d8eee"
   },
   "outputs": [],
   "source": [
    "# # Load DataFrame\n",
    "# file = 'file.csv'\n",
    "# df = pd.read_csv(file)"
   ]
  },
  {
   "cell_type": "markdown",
   "metadata": {
    "cell_id": "02108a7965a64b57992d9db3eb1e23a1",
    "deepnote_cell_type": "markdown"
   },
   "source": [
    "### Basic Data Exploration"
   ]
  },
  {
   "cell_type": "code",
   "execution_count": 4,
   "metadata": {
    "cell_id": "9d82f0ae9afa46f394b3bad6a6360113",
    "deepnote_cell_type": "code",
    "deepnote_to_be_reexecuted": false,
    "execution_millis": 6,
    "execution_start": 1684082034442,
    "source_hash": "b2061493"
   },
   "outputs": [],
   "source": [
    "# # Show rows and columns count\n",
    "# print(f\"Rows count: {df.shape[0]}\\nColumns count: {df.shape[1]}\")"
   ]
  },
  {
   "cell_type": "code",
   "execution_count": 5,
   "metadata": {
    "cell_id": "a82fce9bd2f443509252ca7620379aa5",
    "deepnote_cell_type": "code",
    "deepnote_to_be_reexecuted": false,
    "execution_millis": 30,
    "execution_start": 1684082034452,
    "source_hash": "f584530c"
   },
   "outputs": [],
   "source": [
    "# df.head()"
   ]
  },
  {
   "cell_type": "code",
   "execution_count": 6,
   "metadata": {
    "cell_id": "c3685e4ca2a743c68263bf5e4c617073",
    "deepnote_cell_type": "code",
    "deepnote_to_be_reexecuted": false,
    "execution_millis": 45,
    "execution_start": 1684082034454,
    "source_hash": "c2c74a05"
   },
   "outputs": [],
   "source": [
    "# df.tail()"
   ]
  },
  {
   "cell_type": "markdown",
   "metadata": {
    "cell_id": "7274c5c9b3ae440fb8a2a8858ef6d27f",
    "deepnote_cell_type": "markdown"
   },
   "source": [
    "#### Check Data Types"
   ]
  },
  {
   "cell_type": "code",
   "execution_count": 7,
   "metadata": {
    "cell_id": "ffc9ed41bd8e4957af514b3d9f9a8986",
    "deepnote_cell_type": "code",
    "deepnote_to_be_reexecuted": false,
    "execution_millis": 19,
    "execution_start": 1684082034480,
    "source_hash": "411bda3e"
   },
   "outputs": [],
   "source": [
    "# # Show data types\n",
    "# df.info()"
   ]
  },
  {
   "cell_type": "markdown",
   "metadata": {
    "cell_id": "7f762cd850bf4a5899692d37dce3bfe4",
    "deepnote_cell_type": "markdown"
   },
   "source": [
    "- `column1`, `column2`, `column3` are **strings**.\n",
    "- `column4` and `column5` are **floats**.\n",
    "- `column6` is an **integer**.\n",
    "\n",
    "`column3` should be a **datetime** type instead."
   ]
  },
  {
   "cell_type": "markdown",
   "metadata": {
    "cell_id": "4d97dcf425544595846e23c0c3e57637",
    "deepnote_cell_type": "markdown"
   },
   "source": [
    "#### Check Missing Data"
   ]
  },
  {
   "cell_type": "code",
   "execution_count": 8,
   "metadata": {
    "cell_id": "37050f70f0334425868db3e02d515659",
    "deepnote_cell_type": "code",
    "deepnote_to_be_reexecuted": false,
    "execution_millis": 19,
    "execution_start": 1684082034480,
    "source_hash": "7d2008df"
   },
   "outputs": [],
   "source": [
    "# # Print percentage of missing values\n",
    "# missing_percent = df.isna().mean().sort_values(ascending=False)\n",
    "# print('---- Percentage of Missing Values (%) -----')\n",
    "# if missing_percent.sum():\n",
    "#     print(missing_percent[missing_percent > 0] * 100)\n",
    "# else:\n",
    "#     print('None')"
   ]
  },
  {
   "cell_type": "markdown",
   "metadata": {
    "cell_id": "788f50114ef74753bf9a47386517d95f",
    "deepnote_cell_type": "markdown"
   },
   "source": [
    "#### Check for Duplicate Rows"
   ]
  },
  {
   "cell_type": "code",
   "execution_count": 9,
   "metadata": {
    "cell_id": "2f173b2cfa29432bb073a029b773219e",
    "deepnote_cell_type": "code",
    "deepnote_to_be_reexecuted": false,
    "execution_millis": 19,
    "execution_start": 1684082034480,
    "source_hash": "d799c3f4"
   },
   "outputs": [],
   "source": [
    "# # Show number of duplicated rows\n",
    "# print(f\"No. of entirely duplicated rows: {df.duplicated().sum()}\")\n",
    "\n",
    "# # Show duplicated rows\n",
    "# df[df.duplicated()]"
   ]
  },
  {
   "cell_type": "markdown",
   "metadata": {
    "cell_id": "bfb94e3ab9ac499890ee33260c3f9bc0",
    "deepnote_cell_type": "markdown"
   },
   "source": [
    "#### Check Uniqueness of Data"
   ]
  },
  {
   "cell_type": "code",
   "execution_count": 10,
   "metadata": {
    "cell_id": "60b40039d083454998cea78276a9a0fc",
    "deepnote_cell_type": "code",
    "deepnote_to_be_reexecuted": false,
    "execution_millis": 17,
    "execution_start": 1684082034484,
    "source_hash": "54dd3bf0"
   },
   "outputs": [],
   "source": [
    "# # Print the percentage similarity of values (the lower %, the better)\n",
    "# num_unique = df.nunique().sort_values()\n",
    "# print('---- Percentage Similarity of Values (%) -----')\n",
    "# print(100/num_unique)"
   ]
  },
  {
   "cell_type": "markdown",
   "metadata": {
    "cell_id": "0d0a5d13fa4f45c1bd74c5c6056e85b4",
    "deepnote_cell_type": "markdown"
   },
   "source": [
    "#### Check Data Range"
   ]
  },
  {
   "cell_type": "code",
   "execution_count": 11,
   "metadata": {
    "cell_id": "ed4d093842c542bdb01e7537deb27fa9",
    "deepnote_cell_type": "code",
    "deepnote_to_be_reexecuted": false,
    "execution_millis": 15,
    "execution_start": 1684082034486,
    "source_hash": "f9954904"
   },
   "outputs": [],
   "source": [
    "# # Print summary statistics\n",
    "# df.describe(include='all')\n",
    "# skim(df)"
   ]
  },
  {
   "cell_type": "markdown",
   "metadata": {
    "cell_id": "a73ad313fe5640cc82dd2f1b9a6ea5fc",
    "deepnote_cell_type": "markdown"
   },
   "source": [
    "### Areas to Fix\n",
    "**Data Types**\n",
    "- [ ] Issue 1\n",
    "\n",
    "**Missing Data**\n",
    "- [ ] \n",
    "\n",
    "**Duplicate Rows**\n",
    "- [ ]\n",
    "\n",
    "**Uniqueness of Data**\n",
    "- [ ]\n",
    "\n",
    "**Data Range**\n",
    "- [ ]"
   ]
  },
  {
   "cell_type": "markdown",
   "metadata": {
    "cell_id": "a5bcbeb6e7f94451b008c8076cab7365",
    "deepnote_cell_type": "markdown"
   },
   "source": [
    "---"
   ]
  },
  {
   "cell_type": "markdown",
   "metadata": {
    "cell_id": "1c0e1aa8992949998540a19add96c70e",
    "deepnote_cell_type": "markdown"
   },
   "source": [
    "# 3"
   ]
  },
  {
   "cell_type": "markdown",
   "metadata": {
    "cell_id": "592b248d503e44b4b461ef82f9adf7a6",
    "deepnote_cell_type": "markdown"
   },
   "source": [
    "## Data Preprocessing"
   ]
  },
  {
   "cell_type": "markdown",
   "metadata": {
    "cell_id": "8be765b5461441988fb9d82f77530ea4",
    "deepnote_cell_type": "markdown"
   },
   "source": [
    "Here you can add sections like:\n",
    "\n",
    "- Renaming columns\n",
    "- Drop Redundant Columns\n",
    "- Changing Data Types\n",
    "- Dropping Duplicates\n",
    "- Handling Missing Values\n",
    "- Handling Unreasonable Data Ranges\n",
    "- Feature Engineering / Transformation\n",
    "\n",
    "Use `assert` where possible to show that preprocessing is done."
   ]
  },
  {
   "cell_type": "markdown",
   "metadata": {
    "cell_id": "c53e0f6956e54310bdb86f365995d21e",
    "deepnote_cell_type": "markdown"
   },
   "source": [
    "### Rename Columns"
   ]
  },
  {
   "cell_type": "code",
   "execution_count": 12,
   "metadata": {
    "cell_id": "bb233ddb67dd400283cd10ee262c03c6",
    "deepnote_cell_type": "code",
    "deepnote_to_be_reexecuted": false,
    "execution_millis": 5,
    "execution_start": 1684082034538,
    "source_hash": "9100c620"
   },
   "outputs": [],
   "source": [
    "# # Rename columns to snake_case\n",
    "# df = clean_columns(df, replace={})"
   ]
  },
  {
   "cell_type": "code",
   "execution_count": 13,
   "metadata": {
    "cell_id": "0990dadbacb64e018a7f339755a8abcb",
    "deepnote_cell_type": "code",
    "deepnote_to_be_reexecuted": false,
    "execution_millis": 3,
    "execution_start": 1684082034540,
    "source_hash": "fb618630"
   },
   "outputs": [],
   "source": [
    "# # Rename columns\n",
    "# columns_to_rename = {}\n",
    "# df.rename(columns=columns_to_rename, inplace=True)"
   ]
  },
  {
   "cell_type": "code",
   "execution_count": 14,
   "metadata": {
    "cell_id": "d7c6bd3c71f84ddca59fce3a8d0858ab",
    "deepnote_cell_type": "code",
    "deepnote_to_be_reexecuted": false,
    "execution_millis": 4,
    "execution_start": 1684082034540,
    "source_hash": "e9141d00"
   },
   "outputs": [],
   "source": [
    "# # Verify columns are renamed\n",
    "# df.columns"
   ]
  },
  {
   "cell_type": "markdown",
   "metadata": {
    "cell_id": "95cc904fc07e4bf0a727054592a9aa9c",
    "deepnote_cell_type": "markdown"
   },
   "source": [
    "### Drop Redundant Columns"
   ]
  },
  {
   "cell_type": "code",
   "execution_count": 15,
   "metadata": {
    "cell_id": "491d6041576a4b12adbbb9a13dd98078",
    "deepnote_cell_type": "code",
    "deepnote_to_be_reexecuted": false,
    "execution_millis": 23,
    "execution_start": 1684082034543,
    "source_hash": "b08fc01"
   },
   "outputs": [],
   "source": [
    "# # Check the proportion of the most frequent value in each column\n",
    "# print('---- Frequency of the Mode (%) -----')\n",
    "# mode_dict = {col: (df[col].value_counts().iat[0] / df[col].size * 100) for col in df.columns}\n",
    "# mode_series = pd.Series(mode_dict)\n",
    "# mode_series"
   ]
  },
  {
   "cell_type": "code",
   "execution_count": 16,
   "metadata": {
    "cell_id": "bcfc78e3f26840c59ae3f86d0a527078",
    "deepnote_cell_type": "code",
    "deepnote_to_be_reexecuted": false,
    "execution_millis": 14,
    "execution_start": 1684082034552,
    "source_hash": "742e6b87"
   },
   "outputs": [],
   "source": [
    "# # Show the value frequency of each column greater than the mode's threshold\n",
    "# threshold = 80\n",
    "# for col in mode_series[mode_series > threshold].index:\n",
    "#     print(df[col].value_counts(dropna=False))\n",
    "#     print()"
   ]
  },
  {
   "cell_type": "code",
   "execution_count": 17,
   "metadata": {
    "cell_id": "2e3bea2688c749a98e17287395a6bc48",
    "deepnote_cell_type": "code",
    "deepnote_to_be_reexecuted": false,
    "execution_millis": 13,
    "execution_start": 1684082034566,
    "source_hash": "8d2cd12e"
   },
   "outputs": [],
   "source": [
    "# # Drop columns (specify columns to drop)\n",
    "# cols_to_drop = []\n",
    "# df.drop(columns=cols_to_drop, axis=1, inplace=True)"
   ]
  },
  {
   "cell_type": "code",
   "execution_count": 18,
   "metadata": {
    "cell_id": "1f29ef15044545c5a9e5de93c7711848",
    "deepnote_cell_type": "code",
    "deepnote_to_be_reexecuted": false,
    "execution_millis": 5,
    "execution_start": 1684082034573,
    "source_hash": "99c0ca31"
   },
   "outputs": [],
   "source": [
    "# # Verify columns dropped\n",
    "# assert all(col not in df.columns for col in cols_to_drop)"
   ]
  },
  {
   "cell_type": "code",
   "execution_count": 19,
   "metadata": {
    "cell_id": "778fd9af94294cde9495cf2f6c97a37d",
    "deepnote_cell_type": "code",
    "deepnote_to_be_reexecuted": false,
    "execution_millis": 3,
    "execution_start": 1684082034575,
    "source_hash": "d7e4a913"
   },
   "outputs": [],
   "source": [
    "# # Drop columns (specify column indices to drop)\n",
    "# df.drop(df.columns[a:b], axis=1, inplace=True)"
   ]
  },
  {
   "cell_type": "code",
   "execution_count": 20,
   "metadata": {
    "cell_id": "ef05ff68792e4c689043834b0c19a0cb",
    "deepnote_cell_type": "code",
    "deepnote_to_be_reexecuted": false,
    "execution_millis": 5,
    "execution_start": 1684082034580,
    "source_hash": "e65462d6"
   },
   "outputs": [],
   "source": [
    "# # Verify columns dropped\n",
    "# assert all(col not in df.columns for col in df.columns[a:b])"
   ]
  },
  {
   "cell_type": "code",
   "execution_count": 21,
   "metadata": {
    "cell_id": "2c6bd889ea6b4629af687e24182402bb",
    "deepnote_cell_type": "code",
    "deepnote_to_be_reexecuted": false,
    "execution_millis": 0,
    "execution_start": 1684082034584,
    "source_hash": "163ed3ca",
    "tags": []
   },
   "outputs": [],
   "source": [
    "# # Drop columns (specify columns to keep)\n",
    "# cols_to_keep = []\n",
    "# df = df[cols_to_keep]"
   ]
  },
  {
   "cell_type": "code",
   "execution_count": 22,
   "metadata": {
    "cell_id": "c476ebe4800f4507b6b4cfeb3059857b",
    "deepnote_cell_type": "code",
    "deepnote_to_be_reexecuted": false,
    "execution_millis": 1839849990,
    "execution_start": 1684082034590,
    "source_hash": "5269ecc",
    "tags": []
   },
   "outputs": [],
   "source": [
    "# # Verify columns dropped\n",
    "# assert all(col in df.columns for col in cols_to_keep)"
   ]
  },
  {
   "cell_type": "markdown",
   "metadata": {
    "cell_id": "5a44d491b9714a98aca3e40a2e51c02e",
    "deepnote_cell_type": "markdown"
   },
   "source": [
    "### Changing Data Types"
   ]
  },
  {
   "cell_type": "code",
   "execution_count": 23,
   "metadata": {
    "cell_id": "be0c0625c2db4b53bcb94ef0e655b5cb",
    "deepnote_cell_type": "code",
    "deepnote_to_be_reexecuted": false,
    "execution_millis": 1,
    "execution_start": 1684082034588,
    "source_hash": "9fd78d41"
   },
   "outputs": [],
   "source": [
    "# # Convert columns to the right data types\n",
    "# df[col] = df[col].astype('string')\n",
    "# df[col] = df[col].astype('int')\n",
    "# df[col] = pd.to_datetime(df[col], infer_datetime_format=True)\n",
    "\n",
    "# # Convert to categorical datatype\n",
    "# col_cat = ptypes.CategoricalDtype(categories=['A', 'B', 'C'], ordered=True)\n",
    "# df['col_cat'] = df['col_cat'].astype(col_cat)"
   ]
  },
  {
   "cell_type": "code",
   "execution_count": 24,
   "metadata": {
    "cell_id": "3c88b97c0317445c84c580b59f1d728e",
    "deepnote_cell_type": "code",
    "deepnote_to_be_reexecuted": false,
    "execution_millis": 12,
    "execution_start": 1684082034588,
    "source_hash": "96c40701"
   },
   "outputs": [],
   "source": [
    "# # Verify conversion\n",
    "# df.dtypes"
   ]
  },
  {
   "cell_type": "markdown",
   "metadata": {
    "cell_id": "eaec5575662a4be589c3a7b61fe0cf06",
    "deepnote_cell_type": "markdown"
   },
   "source": [
    "### Dropping Duplicates"
   ]
  },
  {
   "cell_type": "code",
   "execution_count": 25,
   "metadata": {
    "cell_id": "305ee61a5e70417ebae2407234c8c9bb",
    "deepnote_cell_type": "code",
    "deepnote_to_be_reexecuted": false,
    "execution_millis": 1,
    "execution_start": 1684082034633,
    "source_hash": "a141816e"
   },
   "outputs": [],
   "source": [
    "# # Drop entirely duplicated rows\n",
    "# df.drop_duplicates(inplace=True, ignore_index=True)"
   ]
  },
  {
   "cell_type": "code",
   "execution_count": 26,
   "metadata": {
    "cell_id": "ba4c707ea9a2404e93fb435662f5ff04",
    "deepnote_cell_type": "code",
    "deepnote_to_be_reexecuted": false,
    "execution_millis": 4,
    "execution_start": 1684082034633,
    "source_hash": "5427c87c"
   },
   "outputs": [],
   "source": [
    "# # Verify rows dropped\n",
    "# assert df.duplicated().sum()==0"
   ]
  },
  {
   "cell_type": "markdown",
   "metadata": {
    "cell_id": "b02d7025cf844a18b535f905fe727528",
    "deepnote_cell_type": "markdown"
   },
   "source": [
    "### Handling Missing Values"
   ]
  },
  {
   "cell_type": "markdown",
   "metadata": {
    "cell_id": "bbbbbf33374e4a1a870c89f1d49227cb",
    "deepnote_cell_type": "markdown"
   },
   "source": [
    "### Handling Unreasonable Data Ranges"
   ]
  },
  {
   "cell_type": "code",
   "execution_count": 27,
   "metadata": {
    "cell_id": "ca85f03853454dec8aa379b90b7721fe",
    "deepnote_cell_type": "code",
    "deepnote_to_be_reexecuted": false,
    "execution_millis": 4,
    "execution_start": 1684082034633,
    "source_hash": "6f74c738"
   },
   "outputs": [],
   "source": [
    "# # Drop affected rows\n",
    "# df = df.loc[~((df['A'] == 0) | (df['B'] > 100))].reset_index()"
   ]
  },
  {
   "cell_type": "code",
   "execution_count": 28,
   "metadata": {
    "cell_id": "4f9232b5a84b4c07a5f06b6c5f860cc0",
    "deepnote_cell_type": "code",
    "deepnote_to_be_reexecuted": false,
    "execution_millis": 4,
    "execution_start": 1684082034633,
    "source_hash": "8facc333"
   },
   "outputs": [],
   "source": [
    "# # Verify rows dropped\n",
    "# len(df)"
   ]
  },
  {
   "cell_type": "markdown",
   "metadata": {
    "cell_id": "6886b4dfc68349dba5890010a3e5c80c",
    "deepnote_cell_type": "markdown"
   },
   "source": [
    "### Feature Engineering / Transformation"
   ]
  },
  {
   "cell_type": "code",
   "execution_count": 29,
   "metadata": {
    "cell_id": "b851cbd85c7141ea8a527ffb014bac37",
    "deepnote_cell_type": "code",
    "deepnote_to_be_reexecuted": false,
    "execution_millis": 4,
    "execution_start": 1684082034636,
    "source_hash": "5ca24685"
   },
   "outputs": [],
   "source": [
    "# # Get unique values of interested columns\n",
    "# cols = []\n",
    "# pd.unique(df[cols].values.ravel('k'))  # argument 'k' lists the values in the order of the cols "
   ]
  },
  {
   "cell_type": "code",
   "execution_count": 30,
   "metadata": {
    "cell_id": "144d517ea9f14287a8af6f0342df5d5c",
    "deepnote_cell_type": "code",
    "deepnote_to_be_reexecuted": false,
    "execution_millis": 1,
    "execution_start": 1684082034685,
    "source_hash": "7eb0a4cf"
   },
   "outputs": [],
   "source": [
    "# # Create custom function\n",
    "# # Google style docstrings\n",
    "# # https://sphinxcontrib-napoleon.readthedocs.io/en/latest/example_google.html\n",
    "# def custom_function(param1: int, param2: str) -> bool:\n",
    "#     \"\"\"Example function with PEP 484 type annotations.\n",
    "\n",
    "#     Args:\n",
    "#         param1: The first parameter.\n",
    "#         param2: The second parameter.\n",
    "\n",
    "#     Returns:\n",
    "#         The return value. True for success, False otherwise.\n",
    "\n",
    "#     \"\"\""
   ]
  },
  {
   "cell_type": "code",
   "execution_count": 31,
   "metadata": {
    "cell_id": "abfdcab92e2642d2b3926c8d32b06a27",
    "deepnote_cell_type": "code",
    "deepnote_to_be_reexecuted": false,
    "execution_millis": 1,
    "execution_start": 1684082034685,
    "source_hash": "2f4fd46f"
   },
   "outputs": [],
   "source": [
    "# # Apply function to multiple columns\n",
    "# cols = []\n",
    "# df_updated = df.copy()\n",
    "# df_updated[cols] = df_updated[cols].applymap(custom_function)\n",
    "\n",
    "# # Create new aggregated boolean column\n",
    "# df_updated['bool'] = df_updated[cols].any(axis=1, skipna=False)"
   ]
  },
  {
   "cell_type": "markdown",
   "metadata": {
    "cell_id": "0aa6b72e2b54435faeb0d3e59a718144",
    "deepnote_cell_type": "markdown"
   },
   "source": [
    "---"
   ]
  },
  {
   "cell_type": "markdown",
   "metadata": {
    "cell_id": "bf6fd640b9fe4be49dac37997978a636",
    "deepnote_cell_type": "markdown"
   },
   "source": [
    "# 4"
   ]
  },
  {
   "cell_type": "markdown",
   "metadata": {
    "cell_id": "04c62bb80ece4a5f905f42c5ff5fe035",
    "deepnote_cell_type": "markdown"
   },
   "source": [
    "## Data Analysis"
   ]
  },
  {
   "cell_type": "markdown",
   "metadata": {
    "cell_id": "af4161bba1184c54ae5e01e0e38e1be4",
    "deepnote_cell_type": "markdown"
   },
   "source": [
    "Here is where your analysis begins. You can add different sections based on your project goals."
   ]
  },
  {
   "cell_type": "markdown",
   "metadata": {
    "cell_id": "d33995822de34fc1bd31fce802ec9512",
    "deepnote_cell_type": "markdown"
   },
   "source": [
    "### Exploring `Column Name`"
   ]
  },
  {
   "cell_type": "code",
   "execution_count": 32,
   "metadata": {
    "cell_id": "a0799ba8c0e442b781527eb0245304ab",
    "deepnote_cell_type": "code",
    "deepnote_to_be_reexecuted": false,
    "execution_millis": 1,
    "execution_start": 1684082034685,
    "source_hash": "9ecaa010"
   },
   "outputs": [],
   "source": [
    "# Code and visualization"
   ]
  },
  {
   "cell_type": "markdown",
   "metadata": {
    "cell_id": "519d71f9a0c94ae3b52d04713680e2d0",
    "deepnote_cell_type": "markdown"
   },
   "source": [
    "**Observations**\n",
    "- Ob 1\n",
    "- Ob 2\n",
    "- Ob 3"
   ]
  },
  {
   "cell_type": "markdown",
   "metadata": {
    "cell_id": "9ed14056610a4431a33549f334ca4373",
    "deepnote_cell_type": "markdown"
   },
   "source": [
    "---"
   ]
  },
  {
   "cell_type": "markdown",
   "metadata": {
    "cell_id": "363f7d89c38d4329981494d8e46aa259",
    "deepnote_cell_type": "markdown"
   },
   "source": [
    "# 5"
   ]
  },
  {
   "cell_type": "markdown",
   "metadata": {
    "cell_id": "c50a92f03c394aa69cc435090e3f6f56",
    "deepnote_cell_type": "markdown"
   },
   "source": [
    "## Conclusion\n",
    "\n",
    "### Insights \n",
    "State the insights/outcomes of your project or notebook."
   ]
  },
  {
   "cell_type": "markdown",
   "metadata": {
    "cell_id": "49f7130037184208ae6b4fe2ec9a9268",
    "deepnote_cell_type": "markdown"
   },
   "source": [
    "### Suggestions\n",
    "\n",
    "Make suggestions based on insights."
   ]
  },
  {
   "cell_type": "markdown",
   "metadata": {
    "cell_id": "727f036ec033469780c596e0b1ddbd82",
    "deepnote_cell_type": "markdown"
   },
   "source": [
    "### Possible Next Steps\n",
    "Areas to expand on:\n",
    "- (if there is any)"
   ]
  },
  {
   "cell_type": "markdown",
   "metadata": {
    "cell_id": "44a747a8bb7d4e8faa57eb77012199c0",
    "deepnote_cell_type": "markdown"
   },
   "source": [
    "---"
   ]
  },
  {
   "cell_type": "markdown",
   "metadata": {
    "cell_id": "dd7702901c1249efb97b7686138360a1",
    "deepnote_cell_type": "markdown"
   },
   "source": [
    "# 6"
   ]
  },
  {
   "cell_type": "markdown",
   "metadata": {
    "cell_id": "3cfda3e06f4247cd810179189b9c4a00",
    "deepnote_cell_type": "markdown"
   },
   "source": [
    "## Epilogue\n",
    "\n",
    "### References\n",
    "\n",
    "This is how we use inline citation[<sup id=\"fn1-back\">[1]</sup>](#fn1).\n",
    "\n",
    "[<span id=\"fn1\">1.</span>](#fn1-back) _Author (date)._ Title. Available at: https://website.com (Accessed: Date). \n",
    "\n",
    "> Use [https://www.citethisforme.com/](https://www.citethisforme.com/) to create citations."
   ]
  },
  {
   "cell_type": "markdown",
   "metadata": {
    "cell_id": "ebb51cba0a4846cd9056b8da1caced2b",
    "deepnote_cell_type": "markdown"
   },
   "source": [
    "### Versioning\n",
    "Notebook and insights by (author).\n",
    "- Version: 1.5.0\n",
    "- Date: 2023-05-15"
   ]
  }
 ],
 "metadata": {
  "deepnote": {},
  "deepnote_execution_queue": [],
  "deepnote_notebook_id": "8d49e53e32e14bc390f58737ab18c268",
  "deepnote_persisted_session": {
   "createdAt": "2023-04-06T16:20:59.951Z"
  },
  "kernelspec": {
   "display_name": "base",
   "language": "python",
   "name": "python3"
  },
  "language_info": {
   "codemirror_mode": {
    "name": "ipython",
    "version": 3
   },
   "file_extension": ".py",
   "mimetype": "text/x-python",
   "name": "python",
   "nbconvert_exporter": "python",
   "pygments_lexer": "ipython3",
   "version": "3.9.15"
  },
  "vscode": {
   "interpreter": {
    "hash": "fafc50dc8a0fe30378212a6e8a815037b6b7ff0aadeb98c480725f88009956fb"
   }
  }
 },
 "nbformat": 4,
 "nbformat_minor": 0
}
