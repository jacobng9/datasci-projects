{
 "cells": [
  {
   "cell_type": "markdown",
   "metadata": {},
   "source": [
    "Exploring Hacker News Posts\n",
    "\n",
    "https://github.com/dataquestio/solutions/blob/master/Mission356Solutions.ipynb\n",
    "\n",
    "^^ **Learn how to document ipynb Later**"
   ]
  },
  {
   "cell_type": "code",
   "execution_count": 2,
   "metadata": {},
   "outputs": [
    {
     "ename": "ModuleNotFoundError",
     "evalue": "No module named 'kagglehub'",
     "output_type": "error",
     "traceback": [
      "\u001b[0;31m---------------------------------------------------------------------------\u001b[0m",
      "\u001b[0;31mModuleNotFoundError\u001b[0m                       Traceback (most recent call last)",
      "Cell \u001b[0;32mIn[2], line 1\u001b[0m\n\u001b[0;32m----> 1\u001b[0m \u001b[38;5;28;01mimport\u001b[39;00m \u001b[38;5;21;01mkagglehub\u001b[39;00m\n\u001b[1;32m      3\u001b[0m \u001b[38;5;66;03m# Download latest version\u001b[39;00m\n\u001b[1;32m      4\u001b[0m path \u001b[38;5;241m=\u001b[39m kagglehub\u001b[38;5;241m.\u001b[39mdataset_download(\u001b[38;5;124m\"\u001b[39m\u001b[38;5;124mhacker-news/hacker-news-posts\u001b[39m\u001b[38;5;124m\"\u001b[39m)\n",
      "\u001b[0;31mModuleNotFoundError\u001b[0m: No module named 'kagglehub'"
     ]
    }
   ],
   "source": [
    "import kagglehub\n",
    "\n",
    "# Download latest version\n",
    "path = kagglehub.dataset_download(\"hacker-news/hacker-news-posts\")\n",
    "\n",
    "print(\"Path to dataset files:\", path)"
   ]
  },
  {
   "cell_type": "code",
   "execution_count": 2,
   "metadata": {},
   "outputs": [
    {
     "name": "stdout",
     "output_type": "stream",
     "text": [
      "['id', 'title', 'url', 'num_points', 'num_comments', 'author', 'created_at']\n",
      "['12579008', 'You have two days to comment if you want stem cells to be classified as your own', 'http://www.regulations.gov/document?D=FDA-2015-D-3719-0018', '1', '0', 'altstar', '9/26/2016 3:26']\n",
      "['12579005', 'SQLAR  the SQLite Archiver', 'https://www.sqlite.org/sqlar/doc/trunk/README.md', '1', '0', 'blacksqr', '9/26/2016 3:24']\n",
      "['12578997', 'What if we just printed a flatscreen television on the side of our boxes?', 'https://medium.com/vanmoof/our-secrets-out-f21c1f03fdc8#.ietxmez43', '1', '0', 'pavel_lishin', '9/26/2016 3:19']\n",
      "['12578989', 'algorithmic music', 'http://cacm.acm.org/magazines/2011/7/109891-algorithmic-composition/fulltext', '1', '0', 'poindontcare', '9/26/2016 3:16']\n"
     ]
    }
   ],
   "source": [
    "# Example lines in data\n",
    "import csv\n",
    "with open(path + \"/HN_posts_year_to_Sep_26_2016.csv\") as f:\n",
    "    csv_reader = csv.reader(f)\n",
    "    rows = list(csv_reader)\n",
    "    for row in rows[:5]:\n",
    "        print(row)\n",
    "   "
   ]
  },
  {
   "cell_type": "code",
   "execution_count": 3,
   "metadata": {},
   "outputs": [
    {
     "name": "stdout",
     "output_type": "stream",
     "text": [
      "9129\n",
      "10163\n",
      "273827\n"
     ]
    }
   ],
   "source": [
    "# Create variables\n",
    "import csv\n",
    "with open(path + \"/HN_posts_year_to_Sep_26_2016.csv\") as f:\n",
    "\n",
    "    csv_reader = csv.reader(f)\n",
    "    total_lines = list(csv_reader)\n",
    "\n",
    "    ahn = [] # ask Hn posts\n",
    "    ahn_comments = 0 # ask HN comment number\n",
    "\n",
    "    shn = [] # show HN posts\n",
    "    shn_comments = 0 # show HN comment number\n",
    "\n",
    "    other = []\n",
    "    other_comments = 0\n",
    "\n",
    "\n",
    "    for row in total_lines[1:]:\n",
    "        if \"Ask HN\" in row[1]:\n",
    "            ahn.append(row) \n",
    "            if row[4]:\n",
    "                ahn_comments += int(row[4])\n",
    "        elif \"Show HN\" in row[1]:\n",
    "            shn.append(row) \n",
    "            if row[4]:\n",
    "                shn_comments += int(row[4])\n",
    "        else:\n",
    "            other.append(row) \n",
    "            if row[4]:\n",
    "                other_comments += int(row[4])\n",
    "\n",
    "\n",
    "print(len(ahn))\n",
    "print(len(shn))\n",
    "print(len(other))"
   ]
  },
  {
   "cell_type": "code",
   "execution_count": 4,
   "metadata": {},
   "outputs": [
    {
     "name": "stdout",
     "output_type": "stream",
     "text": [
      "['12578908', 'Ask HN: What TLD do you use for local development?', '', '4', '7', 'Sevrene', '9/26/2016 2:53']\n",
      "['12578522', 'Ask HN: How do you pass on your work when you die?', '', '6', '3', 'PascLeRasc', '9/26/2016 1:17']\n",
      "['12577908', 'Ask HN: How a DNS problem can be limited to a geographic region?', '', '1', '0', 'kuon', '9/25/2016 22:57']\n",
      "['12577870', 'Ask HN: Why join a fund when you can be an angel?', '', '1', '3', 'anthony_james', '9/25/2016 22:48']\n",
      "['12577647', 'Ask HN: Someone uses stock trading as passive income?', '', '5', '2', '00taffe', '9/25/2016 21:50']\n",
      "------\n",
      "['12578335', 'Show HN: Finding puns computationally', 'http://puns.samueltaylor.org/', '2', '0', 'saamm', '9/26/2016 0:36']\n",
      "['12578182', 'Show HN: A simple library for complicated animations', 'https://christinecha.github.io/choreographer-js/', '1', '0', 'christinecha', '9/26/2016 0:01']\n",
      "['12578098', 'Show HN: WebGL visualization of DNA sequences', 'http://grondilu.github.io/dna.html', '1', '0', 'grondilu', '9/25/2016 23:44']\n",
      "['12577991', 'Show HN: Pomodoro-centric, heirarchical project management with ES6 modules', 'https://github.com/jakebian/zeal', '2', '0', 'dbranes', '9/25/2016 23:17']\n",
      "['12577142', 'Show HN: Jumble  Essays on the go #PaulInYourPocket', 'https://itunes.apple.com/us/app/jumble-find-startup-essay/id1150939197?ls=1&mt=8', '1', '1', 'ryderj', '9/25/2016 20:06']\n",
      "------\n"
     ]
    }
   ],
   "source": [
    "# Show part of ahn and shn lists\n",
    "for i in ahn[:5]:\n",
    "    print(i)\n",
    "print(\"------\")\n",
    "for i in shn[:5]:\n",
    "    print(i)\n",
    "print(\"------\")"
   ]
  },
  {
   "cell_type": "code",
   "execution_count": 5,
   "metadata": {},
   "outputs": [
    {
     "name": "stdout",
     "output_type": "stream",
     "text": [
      "Average number of comments on 'Ask HN' posts: 10.400043816409246\n",
      "Average number of comments on 'Show HN' posts: 4.8879267932697035\n"
     ]
    }
   ],
   "source": [
    "print(f\"Average number of comments on 'Ask HN' posts: {ahn_comments / len(ahn)}\") \n",
    "print(f\"Average number of comments on 'Show HN' posts: {shn_comments / len(shn)}\") "
   ]
  },
  {
   "cell_type": "code",
   "execution_count": null,
   "metadata": {},
   "outputs": [
    {
     "name": "stdout",
     "output_type": "stream",
     "text": [
      "{0: 59051, 1: 50851, 2: 54172, 3: 45851, 4: 47091, 5: 44203, 6: 45541, 7: 47586, 8: 53937, 9: 59029, 10: 63388, 11: 76282, 12: 97925, 13: 116861, 14: 117088, 15: 137635, 16: 124557, 17: 127000, 18: 120621, 19: 107872, 20: 94965, 21: 86255, 22: 72881, 23: 62119}\n",
      "{0: 8968, 1: 7920, 2: 7455, 3: 7126, 4: 7103, 5: 6536, 6: 7380, 7: 7800, 8: 8503, 9: 9052, 10: 9735, 11: 10352, 12: 12734, 13: 15928, 14: 18138, 15: 19525, 16: 20170, 17: 19711, 18: 18676, 19: 17037, 20: 15955, 21: 14516, 22: 12417, 23: 10382}\n",
      "{0: 6.58, 1: 6.42, 2: 7.27, 3: 6.43, 4: 6.63, 5: 6.76, 6: 6.17, 7: 6.1, 8: 6.34, 9: 6.52, 10: 6.51, 11: 7.37, 12: 7.69, 13: 7.34, 14: 6.46, 15: 7.05, 16: 6.18, 17: 6.44, 18: 6.46, 19: 6.33, 20: 5.95, 21: 5.94, 22: 5.87, 23: 5.98}\n"
     ]
    }
   ],
   "source": [
    "comment_times = {}\n",
    "number_times = {}\n",
    "\n",
    "for line in total_lines[1:]:\n",
    "    hour = line[6].split(\" \")[1].split(\":\")[0]\n",
    "    num_comments = line[4]\n",
    "    if int(hour) in comment_times:\n",
    "        comment_times[int(hour)] += int(num_comments)\n",
    "        number_times[int(hour)] += 1\n",
    "    else:\n",
    "        comment_times[int(hour)] = int(num_comments)\n",
    "        number_times[int(hour)] = 1\n"
   ]
  },
  {
   "cell_type": "code",
   "execution_count": null,
   "metadata": {},
   "outputs": [
    {
     "name": "stdout",
     "output_type": "stream",
     "text": [
      "{0: 6.58, 1: 6.42, 2: 7.27, 3: 6.43, 4: 6.63, 5: 6.76, 6: 6.17, 7: 6.1, 8: 6.34, 9: 6.52, 10: 6.51, 11: 7.37, 12: 7.69, 13: 7.34, 14: 6.46, 15: 7.05, 16: 6.18, 17: 6.44, 18: 6.46, 19: 6.33, 20: 5.95, 21: 5.94, 22: 5.87, 23: 5.98}\n"
     ]
    }
   ],
   "source": [
    "avg_comment_per_hour = {}\n",
    "for key, value in comment_times.items():\n",
    "    avg_comment_per_hour[key] = float(f\"{value / number_times[key]:.2f}\")\n",
    "\n",
    "avg_comment_per_hour = dict(sorted(avg_comment_per_hour.items()))\n",
    "\n",
    "print(avg_comment_per_hour)"
   ]
  },
  {
   "cell_type": "code",
   "execution_count": 7,
   "metadata": {},
   "outputs": [
    {
     "data": {
      "image/png": "[encoded data removed]",
      "text/plain": [
       "<Figure size 640x480 with 1 Axes>"
      ]
     },
     "metadata": {},
     "output_type": "display_data"
    }
   ],
   "source": [
    "import matplotlib.pyplot as plt\n",
    "x = avg_comment_per_hour.keys()\n",
    "y = avg_comment_per_hour.values()\n",
    "\n",
    "plt.bar(x,y)\n",
    "plt.title(\"Average Comment on Posts Per Hour of Day\")\n",
    "plt.xlabel(\"Hour\")\n",
    "plt.ylabel(\"Average # of Comments\")\n",
    "plt.xticks(range(len(x)), x)\n",
    "plt.show()"
   ]
  },
  {
   "cell_type": "code",
   "execution_count": 23,
   "metadata": {},
   "outputs": [
    {
     "name": "stdout",
     "output_type": "stream",
     "text": [
      "{12: 7.69, 11: 7.37, 13: 7.34, 2: 7.27, 15: 7.05, 5: 6.76, 4: 6.63, 0: 6.58, 9: 6.52, 10: 6.51, 14: 6.46, 18: 6.46, 17: 6.44, 3: 6.43, 1: 6.42, 8: 6.34, 19: 6.33, 16: 6.18, 6: 6.17, 7: 6.1, 23: 5.98, 20: 5.95, 21: 5.94, 22: 5.87}\n"
     ]
    }
   ],
   "source": [
    "import numpy as np\n",
    "keys = list(avg_comment_per_hour.keys())\n",
    "values = list(avg_comment_per_hour.values())\n",
    "\n",
    "sorted_value_index = np.argsort(values)[::-1]\n",
    "\n",
    "avg_comment_per_hour_ranked = {keys[i]: values[i] for i in sorted_value_index}\n",
    "\n",
    "print(avg_comment_per_hour_ranked)"
   ]
  },
  {
   "cell_type": "code",
   "execution_count": 25,
   "metadata": {},
   "outputs": [
    {
     "name": "stdout",
     "output_type": "stream",
     "text": [
      "Top 5 Hours to Post\n",
      "Hour: 12pm, Average # of Comments Per Post: 7.69\n",
      "Hour: 11am, Average # of Comments Per Post: 7.37\n",
      "Hour: 1pm, Average # of Comments Per Post: 7.34\n",
      "Hour: 2am, Average # of Comments Per Post: 7.27\n",
      "Hour: 3pm, Average # of Comments Per Post: 7.05\n"
     ]
    }
   ],
   "source": [
    "print(\"Top 5 Hours to Post\")\n",
    "count = 0\n",
    "for key, value in avg_comment_per_hour_ranked.items():\n",
    "    if key >= 12:\n",
    "        if key == 12:\n",
    "            hour = f\"{key}pm\"\n",
    "        else: \n",
    "            hour = f\"{key - 12}pm\"\n",
    "    else:\n",
    "        if key == 0:\n",
    "            hour = f\"{key+12}am\"\n",
    "        else:\n",
    "            hour = f\"{key}am\"\n",
    "    print(f\"Hour: {hour}, Average # of Comments Per Post: {value}\")\n",
    "    count += 1\n",
    "    if count > 4:\n",
    "       break"
   ]
  }
 ],
 "metadata": {
  "kernelspec": {
   "display_name": "personal",
   "language": "python",
   "name": "python3"
  },
  "language_info": {
   "codemirror_mode": {
    "name": "ipython",
    "version": 3
   },
   "file_extension": ".py",
   "mimetype": "text/x-python",
   "name": "python",
   "nbconvert_exporter": "python",
   "pygments_lexer": "ipython3",
   "version": "3.13.1"
  }
 },
 "nbformat": 4,
 "nbformat_minor": 2
}
