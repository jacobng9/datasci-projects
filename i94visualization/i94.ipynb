{
 "cells": [
  {
   "cell_type": "markdown",
   "metadata": {
    "cell_id": "dea50a85adce443584ffb42b3efa546f",
    "deepnote_cell_type": "markdown"
   },
   "source": [
    "# I94 Exploratory Data Analysis"
   ]
  },
  {
   "cell_type": "markdown",
   "metadata": {
    "cell_id": "e33a18bf99fb45fd9732a2c0f40a47ef",
    "deepnote_cell_type": "markdown"
   },
   "source": [
    "## Table of Contents\n",
    "\n",
    "1. [**Introduction**](#1)\n",
    "    - Project Description\n",
    "    - Data Description\n",
    "2. [**Acquiring and Loading Data**](#2)\n",
    "\t- Importing Libraries and Notebook Setup\n",
    "    - Loading Data\n",
    "    - Basic Data Exploration\n",
    "    - Areas to Fix\n",
    "3. [**Data Proprocessing**](#3)\n",
    "4. [**Data Analysis**](#4)\n",
    "5. [**Conclusion**](#5)\n",
    "6. [**Epilogue**](#6) \n",
    "    - References\n",
    "    - Versioning"
   ]
  },
  {
   "cell_type": "markdown",
   "metadata": {
    "cell_id": "27427f016f404aea882fb641b271af6d",
    "deepnote_cell_type": "markdown"
   },
   "source": [
    "---"
   ]
  },
  {
   "cell_type": "markdown",
   "metadata": {
    "cell_id": "4940223da4824d19ae71f85419acc1f2",
    "deepnote_cell_type": "markdown"
   },
   "source": [
    "# 1"
   ]
  },
  {
   "cell_type": "markdown",
   "metadata": {
    "cell_id": "0c9dd6d13705490d95c05a558a431682",
    "deepnote_cell_type": "markdown"
   },
   "source": [
    "## Introduction\n",
    "### Project Description\n",
    "\n",
    "**Goal/Purpose:** \n",
    "\n",
    "This project uses the Metro Interstate Traffic Volume dataset from the University of California Irvine's Machine Learning Repository [[link](https://archive.ics.uci.edu/dataset/492/metro+interstate+traffic+volume)] to explore ana analyze traffic trends and relationships with various factors affecting traffic. By examining these trends, I aim to uncover insights about how two main variables, time and weather, influence these trends.\n",
    "\n",
    "The main goal of this project was to identify meaningful patterns and relationships within the dataset, providing insights and suggestions for those in the administration of I94, possibly leading to more hypothetical benefits for the city of Minnesota. A personal goal for me is to work on skills that I will possibly be using in a future data science role. \n",
    "\n",
    "It is important to read this notebook because:\n",
    "1. It offers a structured approach to analyzing a complex dataset, which can be a valuable reference for other studies.\n",
    "2. These findings may help anticipate traffic congestion for the city of Minnesota and the administration regarding I94. This can help them better the flow of traffic during peak hours.\n",
    "3. It demonstrates how explanatory data analysis (EDA) can simplify complex datasets with multiple entries and reveal hidden relationships. \n",
    "4. Lastly, it is my first thorough data analysis project! I believe that this project showcases multiple skills such as data analysis or familiarity with libraries. \n",
    "\n",
    "\n",
    "<p>&nbsp;</p>\n",
    "\n",
    "**Questions to be Answered:**\n",
    "\n",
    "- What are key patterns in traffic volume based on the dataset?\n",
    "- Do time factors such as day of the week, month, hour, or even year impact traffic volume?\n",
    "- What role do seasonal trends play in affecting traffic volume?\n",
    "- How can we use these trends to suggest possible solutions or further research?\n",
    "\n",
    "<p>&nbsp;</p>\n",
    "\n",
    "**Assumptions/Methodology/Scope:** \n",
    "\n",
    "Assumptions:\n",
    "- The I94 dataset accurately reflects the I94's traffic and includes enough information to draw relationships.\n",
    "- Traffic patterns are influenced by other factors measured\n",
    "- Correlations observed are valid and meaningful.\n",
    "\n",
    "Processing Steps\n",
    "1. Data Cleaning\n",
    "2. Feature Engineering\n",
    "3. Exploratory Data Analysis\n",
    "4. Insights & Reporting\n",
    "\n",
    "Scope:\n",
    "- Analysis of traffic data from specific station on I94\n",
    "- Excluded: \n",
    "  - detailed analysis of factors not measured in dataset\n",
    "  - Predictive modeling for future traffic\n",
    "\n",
    "\n",
    "\n",
    "\n",
    "<p>&nbsp;</p>\n",
    "\n",
    "### Data Description\n",
    "\n",
    "**Content:** \n",
    "\n",
    "This dataset is a csv file of _8204 data points which contains 8 features. \n",
    "\n",
    "<p>&nbsp;</p>\n",
    "\n",
    "**Description of Attributes:** \n",
    "\n",
    "| Column  | Description |\n",
    "| :------ | :---------- |\n",
    "| holiday | US National holidays plus regional holiday, Minnesota State Fair |\n",
    "| temp | Average temp in kelvin |\n",
    "| rain_1h | Amount in mm of rain that occurred in the hour|\n",
    "| snow_1h | Amount in mm of snow that occurred in the hour |\n",
    "| clouds_all | \tPercentage of cloud cover |\n",
    "| weather_main | Short textual description of the current weather |\n",
    "| weather_description | Longer textual description of the current weather |\n",
    "| date_time | Hour of the data collected in local CST time |\n",
    "| traffic_volume | Hourly I-94 ATR 301 reported westbound traffic volume|\n",
    "\n",
    "<p>&nbsp;</p>\n",
    "\n",
    "**Acknowledgements:** \n",
    "\n",
    "This dataset is provided by _(. The original source can be found on [UC Irvine's Machine Learning Repository](https://archive.ics.uci.edu/)."
   ]
  },
  {
   "cell_type": "markdown",
   "metadata": {
    "cell_id": "902dd7f04d87465ebaa929248fbc8aae",
    "deepnote_cell_type": "markdown"
   },
   "source": [
    "---"
   ]
  },
  {
   "cell_type": "markdown",
   "metadata": {
    "cell_id": "8fa36344d6a84f0390d36693adb9255b",
    "deepnote_cell_type": "markdown"
   },
   "source": [
    "# 2"
   ]
  },
  {
   "cell_type": "markdown",
   "metadata": {
    "cell_id": "66ecdc87fd09411e988c940de5fe5003",
    "deepnote_cell_type": "markdown"
   },
   "source": [
    "## Acquiring and Loading Data\n",
    "### Importing Libraries and Notebook Setup"
   ]
  },
  {
   "cell_type": "code",
   "execution_count": 77,
   "metadata": {
    "cell_id": "7652fdf0134f4d6091689d0ca0fdf2e5",
    "deepnote_cell_type": "code",
    "deepnote_to_be_reexecuted": false,
    "execution_millis": 1489,
    "execution_start": 1684082032937,
    "source_hash": "ab774905"
   },
   "outputs": [],
   "source": [
    "import numpy as np \n",
    "import pandas as pd\n",
    "import matplotlib.pyplot as plt\n",
    "import skimpy as sp"
   ]
  },
  {
   "cell_type": "markdown",
   "metadata": {
    "cell_id": "5a64877afc224dccbfb11b10f59221fd",
    "deepnote_cell_type": "markdown"
   },
   "source": [
    "### Loading Data"
   ]
  },
  {
   "cell_type": "code",
   "execution_count": 78,
   "metadata": {
    "cell_id": "310231887a074cabb1ba7abea7b991bf",
    "deepnote_cell_type": "code",
    "deepnote_to_be_reexecuted": false,
    "execution_millis": 1,
    "execution_start": 1684082034439,
    "source_hash": "2a9d8eee"
   },
   "outputs": [],
   "source": [
    "# # Load DataFrame\n",
    "file = \"/Users/jacobng/source-code/datasci-projects/i94visualization/Metro_Interstate_Traffic_Volume.csv\"\n",
    "i94 = pd.read_csv(file)"
   ]
  },
  {
   "cell_type": "markdown",
   "metadata": {
    "cell_id": "02108a7965a64b57992d9db3eb1e23a1",
    "deepnote_cell_type": "markdown"
   },
   "source": [
    "### Basic Data Exploration"
   ]
  },
  {
   "cell_type": "code",
   "execution_count": 79,
   "metadata": {
    "cell_id": "9d82f0ae9afa46f394b3bad6a6360113",
    "deepnote_cell_type": "code",
    "deepnote_to_be_reexecuted": false,
    "execution_millis": 6,
    "execution_start": 1684082034442,
    "source_hash": "b2061493"
   },
   "outputs": [
    {
     "name": "stdout",
     "output_type": "stream",
     "text": [
      "Rows count: 48204\n",
      "Columns count: 9\n"
     ]
    }
   ],
   "source": [
    "# # Show rows and columns count\n",
    "print(f\"Rows count: {i94.shape[0]}\\nColumns count: {i94.shape[1]}\")"
   ]
  },
  {
   "cell_type": "code",
   "execution_count": 80,
   "metadata": {
    "cell_id": "a82fce9bd2f443509252ca7620379aa5",
    "deepnote_cell_type": "code",
    "deepnote_to_be_reexecuted": false,
    "execution_millis": 30,
    "execution_start": 1684082034452,
    "source_hash": "f584530c"
   },
   "outputs": [
    {
     "data": {
      "text/html": [
       "<div>\n",
       "<style scoped>\n",
       "    .dataframe tbody tr th:only-of-type {\n",
       "        vertical-align: middle;\n",
       "    }\n",
       "\n",
       "    .dataframe tbody tr th {\n",
       "        vertical-align: top;\n",
       "    }\n",
       "\n",
       "    .dataframe thead th {\n",
       "        text-align: right;\n",
       "    }\n",
       "</style>\n",
       "<table border=\"1\" class=\"dataframe\">\n",
       "  <thead>\n",
       "    <tr style=\"text-align: right;\">\n",
       "      <th></th>\n",
       "      <th>holiday</th>\n",
       "      <th>temp</th>\n",
       "      <th>rain_1h</th>\n",
       "      <th>snow_1h</th>\n",
       "      <th>clouds_all</th>\n",
       "      <th>weather_main</th>\n",
       "      <th>weather_description</th>\n",
       "      <th>date_time</th>\n",
       "      <th>traffic_volume</th>\n",
       "    </tr>\n",
       "  </thead>\n",
       "  <tbody>\n",
       "    <tr>\n",
       "      <th>0</th>\n",
       "      <td>NaN</td>\n",
       "      <td>288.28</td>\n",
       "      <td>0.0</td>\n",
       "      <td>0.0</td>\n",
       "      <td>40</td>\n",
       "      <td>Clouds</td>\n",
       "      <td>scattered clouds</td>\n",
       "      <td>2012-10-02 09:00:00</td>\n",
       "      <td>5545</td>\n",
       "    </tr>\n",
       "    <tr>\n",
       "      <th>1</th>\n",
       "      <td>NaN</td>\n",
       "      <td>289.36</td>\n",
       "      <td>0.0</td>\n",
       "      <td>0.0</td>\n",
       "      <td>75</td>\n",
       "      <td>Clouds</td>\n",
       "      <td>broken clouds</td>\n",
       "      <td>2012-10-02 10:00:00</td>\n",
       "      <td>4516</td>\n",
       "    </tr>\n",
       "    <tr>\n",
       "      <th>2</th>\n",
       "      <td>NaN</td>\n",
       "      <td>289.58</td>\n",
       "      <td>0.0</td>\n",
       "      <td>0.0</td>\n",
       "      <td>90</td>\n",
       "      <td>Clouds</td>\n",
       "      <td>overcast clouds</td>\n",
       "      <td>2012-10-02 11:00:00</td>\n",
       "      <td>4767</td>\n",
       "    </tr>\n",
       "    <tr>\n",
       "      <th>3</th>\n",
       "      <td>NaN</td>\n",
       "      <td>290.13</td>\n",
       "      <td>0.0</td>\n",
       "      <td>0.0</td>\n",
       "      <td>90</td>\n",
       "      <td>Clouds</td>\n",
       "      <td>overcast clouds</td>\n",
       "      <td>2012-10-02 12:00:00</td>\n",
       "      <td>5026</td>\n",
       "    </tr>\n",
       "    <tr>\n",
       "      <th>4</th>\n",
       "      <td>NaN</td>\n",
       "      <td>291.14</td>\n",
       "      <td>0.0</td>\n",
       "      <td>0.0</td>\n",
       "      <td>75</td>\n",
       "      <td>Clouds</td>\n",
       "      <td>broken clouds</td>\n",
       "      <td>2012-10-02 13:00:00</td>\n",
       "      <td>4918</td>\n",
       "    </tr>\n",
       "  </tbody>\n",
       "</table>\n",
       "</div>"
      ],
      "text/plain": [
       "  holiday    temp  rain_1h  snow_1h  clouds_all weather_main  \\\n",
       "0     NaN  288.28      0.0      0.0          40       Clouds   \n",
       "1     NaN  289.36      0.0      0.0          75       Clouds   \n",
       "2     NaN  289.58      0.0      0.0          90       Clouds   \n",
       "3     NaN  290.13      0.0      0.0          90       Clouds   \n",
       "4     NaN  291.14      0.0      0.0          75       Clouds   \n",
       "\n",
       "  weather_description            date_time  traffic_volume  \n",
       "0    scattered clouds  2012-10-02 09:00:00            5545  \n",
       "1       broken clouds  2012-10-02 10:00:00            4516  \n",
       "2     overcast clouds  2012-10-02 11:00:00            4767  \n",
       "3     overcast clouds  2012-10-02 12:00:00            5026  \n",
       "4       broken clouds  2012-10-02 13:00:00            4918  "
      ]
     },
     "execution_count": 80,
     "metadata": {},
     "output_type": "execute_result"
    }
   ],
   "source": [
    "i94.head()"
   ]
  },
  {
   "cell_type": "code",
   "execution_count": 81,
   "metadata": {
    "cell_id": "c3685e4ca2a743c68263bf5e4c617073",
    "deepnote_cell_type": "code",
    "deepnote_to_be_reexecuted": false,
    "execution_millis": 45,
    "execution_start": 1684082034454,
    "source_hash": "c2c74a05"
   },
   "outputs": [
    {
     "data": {
      "text/html": [
       "<div>\n",
       "<style scoped>\n",
       "    .dataframe tbody tr th:only-of-type {\n",
       "        vertical-align: middle;\n",
       "    }\n",
       "\n",
       "    .dataframe tbody tr th {\n",
       "        vertical-align: top;\n",
       "    }\n",
       "\n",
       "    .dataframe thead th {\n",
       "        text-align: right;\n",
       "    }\n",
       "</style>\n",
       "<table border=\"1\" class=\"dataframe\">\n",
       "  <thead>\n",
       "    <tr style=\"text-align: right;\">\n",
       "      <th></th>\n",
       "      <th>holiday</th>\n",
       "      <th>temp</th>\n",
       "      <th>rain_1h</th>\n",
       "      <th>snow_1h</th>\n",
       "      <th>clouds_all</th>\n",
       "      <th>weather_main</th>\n",
       "      <th>weather_description</th>\n",
       "      <th>date_time</th>\n",
       "      <th>traffic_volume</th>\n",
       "    </tr>\n",
       "  </thead>\n",
       "  <tbody>\n",
       "    <tr>\n",
       "      <th>48199</th>\n",
       "      <td>NaN</td>\n",
       "      <td>283.45</td>\n",
       "      <td>0.0</td>\n",
       "      <td>0.0</td>\n",
       "      <td>75</td>\n",
       "      <td>Clouds</td>\n",
       "      <td>broken clouds</td>\n",
       "      <td>2018-09-30 19:00:00</td>\n",
       "      <td>3543</td>\n",
       "    </tr>\n",
       "    <tr>\n",
       "      <th>48200</th>\n",
       "      <td>NaN</td>\n",
       "      <td>282.76</td>\n",
       "      <td>0.0</td>\n",
       "      <td>0.0</td>\n",
       "      <td>90</td>\n",
       "      <td>Clouds</td>\n",
       "      <td>overcast clouds</td>\n",
       "      <td>2018-09-30 20:00:00</td>\n",
       "      <td>2781</td>\n",
       "    </tr>\n",
       "    <tr>\n",
       "      <th>48201</th>\n",
       "      <td>NaN</td>\n",
       "      <td>282.73</td>\n",
       "      <td>0.0</td>\n",
       "      <td>0.0</td>\n",
       "      <td>90</td>\n",
       "      <td>Thunderstorm</td>\n",
       "      <td>proximity thunderstorm</td>\n",
       "      <td>2018-09-30 21:00:00</td>\n",
       "      <td>2159</td>\n",
       "    </tr>\n",
       "    <tr>\n",
       "      <th>48202</th>\n",
       "      <td>NaN</td>\n",
       "      <td>282.09</td>\n",
       "      <td>0.0</td>\n",
       "      <td>0.0</td>\n",
       "      <td>90</td>\n",
       "      <td>Clouds</td>\n",
       "      <td>overcast clouds</td>\n",
       "      <td>2018-09-30 22:00:00</td>\n",
       "      <td>1450</td>\n",
       "    </tr>\n",
       "    <tr>\n",
       "      <th>48203</th>\n",
       "      <td>NaN</td>\n",
       "      <td>282.12</td>\n",
       "      <td>0.0</td>\n",
       "      <td>0.0</td>\n",
       "      <td>90</td>\n",
       "      <td>Clouds</td>\n",
       "      <td>overcast clouds</td>\n",
       "      <td>2018-09-30 23:00:00</td>\n",
       "      <td>954</td>\n",
       "    </tr>\n",
       "  </tbody>\n",
       "</table>\n",
       "</div>"
      ],
      "text/plain": [
       "      holiday    temp  rain_1h  snow_1h  clouds_all  weather_main  \\\n",
       "48199     NaN  283.45      0.0      0.0          75        Clouds   \n",
       "48200     NaN  282.76      0.0      0.0          90        Clouds   \n",
       "48201     NaN  282.73      0.0      0.0          90  Thunderstorm   \n",
       "48202     NaN  282.09      0.0      0.0          90        Clouds   \n",
       "48203     NaN  282.12      0.0      0.0          90        Clouds   \n",
       "\n",
       "          weather_description            date_time  traffic_volume  \n",
       "48199           broken clouds  2018-09-30 19:00:00            3543  \n",
       "48200         overcast clouds  2018-09-30 20:00:00            2781  \n",
       "48201  proximity thunderstorm  2018-09-30 21:00:00            2159  \n",
       "48202         overcast clouds  2018-09-30 22:00:00            1450  \n",
       "48203         overcast clouds  2018-09-30 23:00:00             954  "
      ]
     },
     "execution_count": 81,
     "metadata": {},
     "output_type": "execute_result"
    }
   ],
   "source": [
    "i94.tail()"
   ]
  },
  {
   "cell_type": "markdown",
   "metadata": {
    "cell_id": "7274c5c9b3ae440fb8a2a8858ef6d27f",
    "deepnote_cell_type": "markdown"
   },
   "source": [
    "#### Check Data Types"
   ]
  },
  {
   "cell_type": "code",
   "execution_count": 82,
   "metadata": {
    "cell_id": "ffc9ed41bd8e4957af514b3d9f9a8986",
    "deepnote_cell_type": "code",
    "deepnote_to_be_reexecuted": false,
    "execution_millis": 19,
    "execution_start": 1684082034480,
    "source_hash": "411bda3e"
   },
   "outputs": [
    {
     "name": "stdout",
     "output_type": "stream",
     "text": [
      "<class 'pandas.core.frame.DataFrame'>\n",
      "RangeIndex: 48204 entries, 0 to 48203\n",
      "Data columns (total 9 columns):\n",
      " #   Column               Non-Null Count  Dtype  \n",
      "---  ------               --------------  -----  \n",
      " 0   holiday              61 non-null     object \n",
      " 1   temp                 48204 non-null  float64\n",
      " 2   rain_1h              48204 non-null  float64\n",
      " 3   snow_1h              48204 non-null  float64\n",
      " 4   clouds_all           48204 non-null  int64  \n",
      " 5   weather_main         48204 non-null  object \n",
      " 6   weather_description  48204 non-null  object \n",
      " 7   date_time            48204 non-null  object \n",
      " 8   traffic_volume       48204 non-null  int64  \n",
      "dtypes: float64(3), int64(2), object(4)\n",
      "memory usage: 3.3+ MB\n"
     ]
    }
   ],
   "source": [
    "# # Show data types\n",
    "i94.info()"
   ]
  },
  {
   "cell_type": "markdown",
   "metadata": {
    "cell_id": "7f762cd850bf4a5899692d37dce3bfe4",
    "deepnote_cell_type": "markdown"
   },
   "source": [
    "- `column1`, `column2`, `column3` are **strings**.\n",
    "- `column4` and `column5` are **floats**.\n",
    "- `column6` is an **integer**.\n",
    "\n",
    "`column3` should be a **datetime** type instead."
   ]
  },
  {
   "cell_type": "markdown",
   "metadata": {
    "cell_id": "4d97dcf425544595846e23c0c3e57637",
    "deepnote_cell_type": "markdown"
   },
   "source": [
    "#### Check Missing Data"
   ]
  },
  {
   "cell_type": "code",
   "execution_count": 83,
   "metadata": {
    "cell_id": "37050f70f0334425868db3e02d515659",
    "deepnote_cell_type": "code",
    "deepnote_to_be_reexecuted": false,
    "execution_millis": 19,
    "execution_start": 1684082034480,
    "source_hash": "7d2008df"
   },
   "outputs": [
    {
     "name": "stdout",
     "output_type": "stream",
     "text": [
      "---- Percentage of Missing Values (%) -----\n",
      "holiday    99.873454\n",
      "dtype: float64\n"
     ]
    }
   ],
   "source": [
    "# Print percentage of missing values\n",
    "missing_percent = i94.isna().mean().sort_values(ascending=False)\n",
    "print('---- Percentage of Missing Values (%) -----')\n",
    "if missing_percent.sum():\n",
    "    print(missing_percent[missing_percent > 0] * 100)\n",
    "else:\n",
    "    print('None')"
   ]
  },
  {
   "cell_type": "markdown",
   "metadata": {
    "cell_id": "788f50114ef74753bf9a47386517d95f",
    "deepnote_cell_type": "markdown"
   },
   "source": [
    "#### Check for Duplicate Rows"
   ]
  },
  {
   "cell_type": "code",
   "execution_count": 84,
   "metadata": {
    "cell_id": "2f173b2cfa29432bb073a029b773219e",
    "deepnote_cell_type": "code",
    "deepnote_to_be_reexecuted": false,
    "execution_millis": 19,
    "execution_start": 1684082034480,
    "source_hash": "d799c3f4"
   },
   "outputs": [
    {
     "name": "stdout",
     "output_type": "stream",
     "text": [
      "No. of entirely duplicated rows: 17\n"
     ]
    },
    {
     "data": {
      "text/html": [
       "<div>\n",
       "<style scoped>\n",
       "    .dataframe tbody tr th:only-of-type {\n",
       "        vertical-align: middle;\n",
       "    }\n",
       "\n",
       "    .dataframe tbody tr th {\n",
       "        vertical-align: top;\n",
       "    }\n",
       "\n",
       "    .dataframe thead th {\n",
       "        text-align: right;\n",
       "    }\n",
       "</style>\n",
       "<table border=\"1\" class=\"dataframe\">\n",
       "  <thead>\n",
       "    <tr style=\"text-align: right;\">\n",
       "      <th></th>\n",
       "      <th>holiday</th>\n",
       "      <th>temp</th>\n",
       "      <th>rain_1h</th>\n",
       "      <th>snow_1h</th>\n",
       "      <th>clouds_all</th>\n",
       "      <th>weather_main</th>\n",
       "      <th>weather_description</th>\n",
       "      <th>date_time</th>\n",
       "      <th>traffic_volume</th>\n",
       "    </tr>\n",
       "  </thead>\n",
       "  <tbody>\n",
       "    <tr>\n",
       "      <th>18696</th>\n",
       "      <td>NaN</td>\n",
       "      <td>286.290</td>\n",
       "      <td>0.0</td>\n",
       "      <td>0.0</td>\n",
       "      <td>1</td>\n",
       "      <td>Clear</td>\n",
       "      <td>sky is clear</td>\n",
       "      <td>2015-09-30 19:00:00</td>\n",
       "      <td>3679</td>\n",
       "    </tr>\n",
       "    <tr>\n",
       "      <th>18697</th>\n",
       "      <td>NaN</td>\n",
       "      <td>286.290</td>\n",
       "      <td>0.0</td>\n",
       "      <td>0.0</td>\n",
       "      <td>1</td>\n",
       "      <td>Clear</td>\n",
       "      <td>sky is clear</td>\n",
       "      <td>2015-09-30 19:00:00</td>\n",
       "      <td>3679</td>\n",
       "    </tr>\n",
       "    <tr>\n",
       "      <th>23850</th>\n",
       "      <td>NaN</td>\n",
       "      <td>289.060</td>\n",
       "      <td>0.0</td>\n",
       "      <td>0.0</td>\n",
       "      <td>90</td>\n",
       "      <td>Clouds</td>\n",
       "      <td>overcast clouds</td>\n",
       "      <td>2016-06-01 10:00:00</td>\n",
       "      <td>4831</td>\n",
       "    </tr>\n",
       "    <tr>\n",
       "      <th>23851</th>\n",
       "      <td>NaN</td>\n",
       "      <td>289.060</td>\n",
       "      <td>0.0</td>\n",
       "      <td>0.0</td>\n",
       "      <td>90</td>\n",
       "      <td>Clouds</td>\n",
       "      <td>overcast clouds</td>\n",
       "      <td>2016-06-01 10:00:00</td>\n",
       "      <td>4831</td>\n",
       "    </tr>\n",
       "    <tr>\n",
       "      <th>26783</th>\n",
       "      <td>NaN</td>\n",
       "      <td>289.775</td>\n",
       "      <td>0.0</td>\n",
       "      <td>0.0</td>\n",
       "      <td>56</td>\n",
       "      <td>Clouds</td>\n",
       "      <td>broken clouds</td>\n",
       "      <td>2016-09-21 15:00:00</td>\n",
       "      <td>5365</td>\n",
       "    </tr>\n",
       "    <tr>\n",
       "      <th>26784</th>\n",
       "      <td>NaN</td>\n",
       "      <td>289.775</td>\n",
       "      <td>0.0</td>\n",
       "      <td>0.0</td>\n",
       "      <td>56</td>\n",
       "      <td>Clouds</td>\n",
       "      <td>broken clouds</td>\n",
       "      <td>2016-09-21 15:00:00</td>\n",
       "      <td>5365</td>\n",
       "    </tr>\n",
       "    <tr>\n",
       "      <th>26979</th>\n",
       "      <td>NaN</td>\n",
       "      <td>287.860</td>\n",
       "      <td>0.0</td>\n",
       "      <td>0.0</td>\n",
       "      <td>0</td>\n",
       "      <td>Clear</td>\n",
       "      <td>Sky is Clear</td>\n",
       "      <td>2016-09-29 19:00:00</td>\n",
       "      <td>3435</td>\n",
       "    </tr>\n",
       "    <tr>\n",
       "      <th>26980</th>\n",
       "      <td>NaN</td>\n",
       "      <td>287.860</td>\n",
       "      <td>0.0</td>\n",
       "      <td>0.0</td>\n",
       "      <td>0</td>\n",
       "      <td>Clear</td>\n",
       "      <td>Sky is Clear</td>\n",
       "      <td>2016-09-29 19:00:00</td>\n",
       "      <td>3435</td>\n",
       "    </tr>\n",
       "    <tr>\n",
       "      <th>27170</th>\n",
       "      <td>NaN</td>\n",
       "      <td>279.287</td>\n",
       "      <td>0.0</td>\n",
       "      <td>0.0</td>\n",
       "      <td>56</td>\n",
       "      <td>Clouds</td>\n",
       "      <td>broken clouds</td>\n",
       "      <td>2016-10-07 18:00:00</td>\n",
       "      <td>4642</td>\n",
       "    </tr>\n",
       "    <tr>\n",
       "      <th>27171</th>\n",
       "      <td>NaN</td>\n",
       "      <td>279.287</td>\n",
       "      <td>0.0</td>\n",
       "      <td>0.0</td>\n",
       "      <td>56</td>\n",
       "      <td>Clouds</td>\n",
       "      <td>broken clouds</td>\n",
       "      <td>2016-10-07 18:00:00</td>\n",
       "      <td>4642</td>\n",
       "    </tr>\n",
       "    <tr>\n",
       "      <th>28878</th>\n",
       "      <td>NaN</td>\n",
       "      <td>267.890</td>\n",
       "      <td>0.0</td>\n",
       "      <td>0.0</td>\n",
       "      <td>90</td>\n",
       "      <td>Snow</td>\n",
       "      <td>light snow</td>\n",
       "      <td>2016-12-06 18:00:00</td>\n",
       "      <td>4520</td>\n",
       "    </tr>\n",
       "    <tr>\n",
       "      <th>28879</th>\n",
       "      <td>NaN</td>\n",
       "      <td>267.890</td>\n",
       "      <td>0.0</td>\n",
       "      <td>0.0</td>\n",
       "      <td>90</td>\n",
       "      <td>Snow</td>\n",
       "      <td>light snow</td>\n",
       "      <td>2016-12-06 18:00:00</td>\n",
       "      <td>4520</td>\n",
       "    </tr>\n",
       "    <tr>\n",
       "      <th>29267</th>\n",
       "      <td>NaN</td>\n",
       "      <td>254.220</td>\n",
       "      <td>0.0</td>\n",
       "      <td>0.0</td>\n",
       "      <td>1</td>\n",
       "      <td>Clear</td>\n",
       "      <td>sky is clear</td>\n",
       "      <td>2016-12-19 00:00:00</td>\n",
       "      <td>420</td>\n",
       "    </tr>\n",
       "    <tr>\n",
       "      <th>29268</th>\n",
       "      <td>NaN</td>\n",
       "      <td>254.220</td>\n",
       "      <td>0.0</td>\n",
       "      <td>0.0</td>\n",
       "      <td>1</td>\n",
       "      <td>Clear</td>\n",
       "      <td>sky is clear</td>\n",
       "      <td>2016-12-19 00:00:00</td>\n",
       "      <td>420</td>\n",
       "    </tr>\n",
       "    <tr>\n",
       "      <th>34710</th>\n",
       "      <td>NaN</td>\n",
       "      <td>295.010</td>\n",
       "      <td>0.0</td>\n",
       "      <td>0.0</td>\n",
       "      <td>40</td>\n",
       "      <td>Clouds</td>\n",
       "      <td>scattered clouds</td>\n",
       "      <td>2017-06-21 11:00:00</td>\n",
       "      <td>4808</td>\n",
       "    </tr>\n",
       "    <tr>\n",
       "      <th>34711</th>\n",
       "      <td>NaN</td>\n",
       "      <td>295.010</td>\n",
       "      <td>0.0</td>\n",
       "      <td>0.0</td>\n",
       "      <td>40</td>\n",
       "      <td>Clouds</td>\n",
       "      <td>scattered clouds</td>\n",
       "      <td>2017-06-21 11:00:00</td>\n",
       "      <td>4808</td>\n",
       "    </tr>\n",
       "    <tr>\n",
       "      <th>34966</th>\n",
       "      <td>NaN</td>\n",
       "      <td>292.840</td>\n",
       "      <td>0.0</td>\n",
       "      <td>0.0</td>\n",
       "      <td>1</td>\n",
       "      <td>Clear</td>\n",
       "      <td>sky is clear</td>\n",
       "      <td>2017-06-30 10:00:00</td>\n",
       "      <td>4638</td>\n",
       "    </tr>\n",
       "    <tr>\n",
       "      <th>34967</th>\n",
       "      <td>NaN</td>\n",
       "      <td>292.840</td>\n",
       "      <td>0.0</td>\n",
       "      <td>0.0</td>\n",
       "      <td>1</td>\n",
       "      <td>Clear</td>\n",
       "      <td>sky is clear</td>\n",
       "      <td>2017-06-30 10:00:00</td>\n",
       "      <td>4638</td>\n",
       "    </tr>\n",
       "    <tr>\n",
       "      <th>34968</th>\n",
       "      <td>NaN</td>\n",
       "      <td>294.520</td>\n",
       "      <td>0.0</td>\n",
       "      <td>0.0</td>\n",
       "      <td>1</td>\n",
       "      <td>Clear</td>\n",
       "      <td>sky is clear</td>\n",
       "      <td>2017-06-30 11:00:00</td>\n",
       "      <td>4725</td>\n",
       "    </tr>\n",
       "    <tr>\n",
       "      <th>34969</th>\n",
       "      <td>NaN</td>\n",
       "      <td>294.520</td>\n",
       "      <td>0.0</td>\n",
       "      <td>0.0</td>\n",
       "      <td>1</td>\n",
       "      <td>Clear</td>\n",
       "      <td>sky is clear</td>\n",
       "      <td>2017-06-30 11:00:00</td>\n",
       "      <td>4725</td>\n",
       "    </tr>\n",
       "    <tr>\n",
       "      <th>34970</th>\n",
       "      <td>NaN</td>\n",
       "      <td>295.770</td>\n",
       "      <td>0.0</td>\n",
       "      <td>0.0</td>\n",
       "      <td>75</td>\n",
       "      <td>Clouds</td>\n",
       "      <td>broken clouds</td>\n",
       "      <td>2017-06-30 12:00:00</td>\n",
       "      <td>5229</td>\n",
       "    </tr>\n",
       "    <tr>\n",
       "      <th>34971</th>\n",
       "      <td>NaN</td>\n",
       "      <td>295.770</td>\n",
       "      <td>0.0</td>\n",
       "      <td>0.0</td>\n",
       "      <td>75</td>\n",
       "      <td>Clouds</td>\n",
       "      <td>broken clouds</td>\n",
       "      <td>2017-06-30 12:00:00</td>\n",
       "      <td>5229</td>\n",
       "    </tr>\n",
       "    <tr>\n",
       "      <th>34972</th>\n",
       "      <td>NaN</td>\n",
       "      <td>296.950</td>\n",
       "      <td>0.0</td>\n",
       "      <td>0.0</td>\n",
       "      <td>1</td>\n",
       "      <td>Thunderstorm</td>\n",
       "      <td>thunderstorm</td>\n",
       "      <td>2017-06-30 13:00:00</td>\n",
       "      <td>5263</td>\n",
       "    </tr>\n",
       "    <tr>\n",
       "      <th>34973</th>\n",
       "      <td>NaN</td>\n",
       "      <td>296.950</td>\n",
       "      <td>0.0</td>\n",
       "      <td>0.0</td>\n",
       "      <td>1</td>\n",
       "      <td>Thunderstorm</td>\n",
       "      <td>thunderstorm</td>\n",
       "      <td>2017-06-30 13:00:00</td>\n",
       "      <td>5263</td>\n",
       "    </tr>\n",
       "    <tr>\n",
       "      <th>37571</th>\n",
       "      <td>NaN</td>\n",
       "      <td>288.890</td>\n",
       "      <td>0.0</td>\n",
       "      <td>0.0</td>\n",
       "      <td>1</td>\n",
       "      <td>Clear</td>\n",
       "      <td>sky is clear</td>\n",
       "      <td>2017-09-29 19:00:00</td>\n",
       "      <td>4498</td>\n",
       "    </tr>\n",
       "    <tr>\n",
       "      <th>37572</th>\n",
       "      <td>NaN</td>\n",
       "      <td>288.890</td>\n",
       "      <td>0.0</td>\n",
       "      <td>0.0</td>\n",
       "      <td>1</td>\n",
       "      <td>Clear</td>\n",
       "      <td>sky is clear</td>\n",
       "      <td>2017-09-29 19:00:00</td>\n",
       "      <td>4498</td>\n",
       "    </tr>\n",
       "    <tr>\n",
       "      <th>38674</th>\n",
       "      <td>NaN</td>\n",
       "      <td>278.720</td>\n",
       "      <td>0.0</td>\n",
       "      <td>0.0</td>\n",
       "      <td>90</td>\n",
       "      <td>Drizzle</td>\n",
       "      <td>light intensity drizzle</td>\n",
       "      <td>2017-11-05 01:00:00</td>\n",
       "      <td>629</td>\n",
       "    </tr>\n",
       "    <tr>\n",
       "      <th>38675</th>\n",
       "      <td>NaN</td>\n",
       "      <td>278.720</td>\n",
       "      <td>0.0</td>\n",
       "      <td>0.0</td>\n",
       "      <td>90</td>\n",
       "      <td>Mist</td>\n",
       "      <td>mist</td>\n",
       "      <td>2017-11-05 01:00:00</td>\n",
       "      <td>629</td>\n",
       "    </tr>\n",
       "    <tr>\n",
       "      <th>38676</th>\n",
       "      <td>NaN</td>\n",
       "      <td>278.720</td>\n",
       "      <td>0.0</td>\n",
       "      <td>0.0</td>\n",
       "      <td>90</td>\n",
       "      <td>Drizzle</td>\n",
       "      <td>light intensity drizzle</td>\n",
       "      <td>2017-11-05 01:00:00</td>\n",
       "      <td>629</td>\n",
       "    </tr>\n",
       "    <tr>\n",
       "      <th>38677</th>\n",
       "      <td>NaN</td>\n",
       "      <td>278.720</td>\n",
       "      <td>0.0</td>\n",
       "      <td>0.0</td>\n",
       "      <td>90</td>\n",
       "      <td>Mist</td>\n",
       "      <td>mist</td>\n",
       "      <td>2017-11-05 01:00:00</td>\n",
       "      <td>629</td>\n",
       "    </tr>\n",
       "    <tr>\n",
       "      <th>39526</th>\n",
       "      <td>NaN</td>\n",
       "      <td>266.220</td>\n",
       "      <td>0.0</td>\n",
       "      <td>0.0</td>\n",
       "      <td>1</td>\n",
       "      <td>Clear</td>\n",
       "      <td>sky is clear</td>\n",
       "      <td>2017-12-05 18:00:00</td>\n",
       "      <td>3936</td>\n",
       "    </tr>\n",
       "    <tr>\n",
       "      <th>39527</th>\n",
       "      <td>NaN</td>\n",
       "      <td>266.220</td>\n",
       "      <td>0.0</td>\n",
       "      <td>0.0</td>\n",
       "      <td>1</td>\n",
       "      <td>Clear</td>\n",
       "      <td>sky is clear</td>\n",
       "      <td>2017-12-05 18:00:00</td>\n",
       "      <td>3936</td>\n",
       "    </tr>\n",
       "    <tr>\n",
       "      <th>48172</th>\n",
       "      <td>NaN</td>\n",
       "      <td>280.680</td>\n",
       "      <td>0.0</td>\n",
       "      <td>0.0</td>\n",
       "      <td>90</td>\n",
       "      <td>Clouds</td>\n",
       "      <td>overcast clouds</td>\n",
       "      <td>2018-09-29 19:00:00</td>\n",
       "      <td>3818</td>\n",
       "    </tr>\n",
       "    <tr>\n",
       "      <th>48173</th>\n",
       "      <td>NaN</td>\n",
       "      <td>280.680</td>\n",
       "      <td>0.0</td>\n",
       "      <td>0.0</td>\n",
       "      <td>90</td>\n",
       "      <td>Clouds</td>\n",
       "      <td>overcast clouds</td>\n",
       "      <td>2018-09-29 19:00:00</td>\n",
       "      <td>3818</td>\n",
       "    </tr>\n",
       "  </tbody>\n",
       "</table>\n",
       "</div>"
      ],
      "text/plain": [
       "      holiday     temp  rain_1h  snow_1h  clouds_all  weather_main  \\\n",
       "18696     NaN  286.290      0.0      0.0           1         Clear   \n",
       "18697     NaN  286.290      0.0      0.0           1         Clear   \n",
       "23850     NaN  289.060      0.0      0.0          90        Clouds   \n",
       "23851     NaN  289.060      0.0      0.0          90        Clouds   \n",
       "26783     NaN  289.775      0.0      0.0          56        Clouds   \n",
       "26784     NaN  289.775      0.0      0.0          56        Clouds   \n",
       "26979     NaN  287.860      0.0      0.0           0         Clear   \n",
       "26980     NaN  287.860      0.0      0.0           0         Clear   \n",
       "27170     NaN  279.287      0.0      0.0          56        Clouds   \n",
       "27171     NaN  279.287      0.0      0.0          56        Clouds   \n",
       "28878     NaN  267.890      0.0      0.0          90          Snow   \n",
       "28879     NaN  267.890      0.0      0.0          90          Snow   \n",
       "29267     NaN  254.220      0.0      0.0           1         Clear   \n",
       "29268     NaN  254.220      0.0      0.0           1         Clear   \n",
       "34710     NaN  295.010      0.0      0.0          40        Clouds   \n",
       "34711     NaN  295.010      0.0      0.0          40        Clouds   \n",
       "34966     NaN  292.840      0.0      0.0           1         Clear   \n",
       "34967     NaN  292.840      0.0      0.0           1         Clear   \n",
       "34968     NaN  294.520      0.0      0.0           1         Clear   \n",
       "34969     NaN  294.520      0.0      0.0           1         Clear   \n",
       "34970     NaN  295.770      0.0      0.0          75        Clouds   \n",
       "34971     NaN  295.770      0.0      0.0          75        Clouds   \n",
       "34972     NaN  296.950      0.0      0.0           1  Thunderstorm   \n",
       "34973     NaN  296.950      0.0      0.0           1  Thunderstorm   \n",
       "37571     NaN  288.890      0.0      0.0           1         Clear   \n",
       "37572     NaN  288.890      0.0      0.0           1         Clear   \n",
       "38674     NaN  278.720      0.0      0.0          90       Drizzle   \n",
       "38675     NaN  278.720      0.0      0.0          90          Mist   \n",
       "38676     NaN  278.720      0.0      0.0          90       Drizzle   \n",
       "38677     NaN  278.720      0.0      0.0          90          Mist   \n",
       "39526     NaN  266.220      0.0      0.0           1         Clear   \n",
       "39527     NaN  266.220      0.0      0.0           1         Clear   \n",
       "48172     NaN  280.680      0.0      0.0          90        Clouds   \n",
       "48173     NaN  280.680      0.0      0.0          90        Clouds   \n",
       "\n",
       "           weather_description            date_time  traffic_volume  \n",
       "18696             sky is clear  2015-09-30 19:00:00            3679  \n",
       "18697             sky is clear  2015-09-30 19:00:00            3679  \n",
       "23850          overcast clouds  2016-06-01 10:00:00            4831  \n",
       "23851          overcast clouds  2016-06-01 10:00:00            4831  \n",
       "26783            broken clouds  2016-09-21 15:00:00            5365  \n",
       "26784            broken clouds  2016-09-21 15:00:00            5365  \n",
       "26979             Sky is Clear  2016-09-29 19:00:00            3435  \n",
       "26980             Sky is Clear  2016-09-29 19:00:00            3435  \n",
       "27170            broken clouds  2016-10-07 18:00:00            4642  \n",
       "27171            broken clouds  2016-10-07 18:00:00            4642  \n",
       "28878               light snow  2016-12-06 18:00:00            4520  \n",
       "28879               light snow  2016-12-06 18:00:00            4520  \n",
       "29267             sky is clear  2016-12-19 00:00:00             420  \n",
       "29268             sky is clear  2016-12-19 00:00:00             420  \n",
       "34710         scattered clouds  2017-06-21 11:00:00            4808  \n",
       "34711         scattered clouds  2017-06-21 11:00:00            4808  \n",
       "34966             sky is clear  2017-06-30 10:00:00            4638  \n",
       "34967             sky is clear  2017-06-30 10:00:00            4638  \n",
       "34968             sky is clear  2017-06-30 11:00:00            4725  \n",
       "34969             sky is clear  2017-06-30 11:00:00            4725  \n",
       "34970            broken clouds  2017-06-30 12:00:00            5229  \n",
       "34971            broken clouds  2017-06-30 12:00:00            5229  \n",
       "34972             thunderstorm  2017-06-30 13:00:00            5263  \n",
       "34973             thunderstorm  2017-06-30 13:00:00            5263  \n",
       "37571             sky is clear  2017-09-29 19:00:00            4498  \n",
       "37572             sky is clear  2017-09-29 19:00:00            4498  \n",
       "38674  light intensity drizzle  2017-11-05 01:00:00             629  \n",
       "38675                     mist  2017-11-05 01:00:00             629  \n",
       "38676  light intensity drizzle  2017-11-05 01:00:00             629  \n",
       "38677                     mist  2017-11-05 01:00:00             629  \n",
       "39526             sky is clear  2017-12-05 18:00:00            3936  \n",
       "39527             sky is clear  2017-12-05 18:00:00            3936  \n",
       "48172          overcast clouds  2018-09-29 19:00:00            3818  \n",
       "48173          overcast clouds  2018-09-29 19:00:00            3818  "
      ]
     },
     "execution_count": 84,
     "metadata": {},
     "output_type": "execute_result"
    }
   ],
   "source": [
    "# Show number of duplicated rows\n",
    "print(f\"No. of entirely duplicated rows: {i94.duplicated().sum()}\")\n",
    "\n",
    "# Show duplicated rows\n",
    "i94[i94.duplicated(keep=False)]\n"
   ]
  },
  {
   "cell_type": "markdown",
   "metadata": {
    "cell_id": "bfb94e3ab9ac499890ee33260c3f9bc0",
    "deepnote_cell_type": "markdown"
   },
   "source": [
    "#### Check Uniqueness of Data"
   ]
  },
  {
   "cell_type": "code",
   "execution_count": 85,
   "metadata": {
    "cell_id": "60b40039d083454998cea78276a9a0fc",
    "deepnote_cell_type": "code",
    "deepnote_to_be_reexecuted": false,
    "execution_millis": 17,
    "execution_start": 1684082034484,
    "source_hash": "54dd3bf0"
   },
   "outputs": [
    {
     "name": "stdout",
     "output_type": "stream",
     "text": [
      "---- Percentage Similarity of Values (%) -----\n",
      "holiday                9.090909\n",
      "weather_main           9.090909\n",
      "snow_1h                8.333333\n",
      "weather_description    2.631579\n",
      "clouds_all             1.666667\n",
      "rain_1h                0.268817\n",
      "temp                   0.017114\n",
      "traffic_volume         0.014916\n",
      "date_time              0.002465\n",
      "dtype: float64\n"
     ]
    }
   ],
   "source": [
    "# Print the percentage similarity of values (the lower %, the better)\n",
    "num_unique = i94.nunique().sort_values()\n",
    "print('---- Percentage Similarity of Values (%) -----')\n",
    "print(100/num_unique)"
   ]
  },
  {
   "cell_type": "markdown",
   "metadata": {
    "cell_id": "0d0a5d13fa4f45c1bd74c5c6056e85b4",
    "deepnote_cell_type": "markdown"
   },
   "source": [
    "#### Check Data Range"
   ]
  },
  {
   "cell_type": "code",
   "execution_count": 86,
   "metadata": {
    "cell_id": "ed4d093842c542bdb01e7537deb27fa9",
    "deepnote_cell_type": "code",
    "deepnote_to_be_reexecuted": false,
    "execution_millis": 15,
    "execution_start": 1684082034486,
    "source_hash": "f9954904"
   },
   "outputs": [
    {
     "data": {
      "text/html": [
       "<div>\n",
       "<style scoped>\n",
       "    .dataframe tbody tr th:only-of-type {\n",
       "        vertical-align: middle;\n",
       "    }\n",
       "\n",
       "    .dataframe tbody tr th {\n",
       "        vertical-align: top;\n",
       "    }\n",
       "\n",
       "    .dataframe thead th {\n",
       "        text-align: right;\n",
       "    }\n",
       "</style>\n",
       "<table border=\"1\" class=\"dataframe\">\n",
       "  <thead>\n",
       "    <tr style=\"text-align: right;\">\n",
       "      <th></th>\n",
       "      <th>holiday</th>\n",
       "      <th>temp</th>\n",
       "      <th>rain_1h</th>\n",
       "      <th>snow_1h</th>\n",
       "      <th>clouds_all</th>\n",
       "      <th>weather_main</th>\n",
       "      <th>weather_description</th>\n",
       "      <th>date_time</th>\n",
       "      <th>traffic_volume</th>\n",
       "    </tr>\n",
       "  </thead>\n",
       "  <tbody>\n",
       "    <tr>\n",
       "      <th>count</th>\n",
       "      <td>61</td>\n",
       "      <td>48204.000000</td>\n",
       "      <td>48204.000000</td>\n",
       "      <td>48204.000000</td>\n",
       "      <td>48204.000000</td>\n",
       "      <td>48204</td>\n",
       "      <td>48204</td>\n",
       "      <td>48204</td>\n",
       "      <td>48204.000000</td>\n",
       "    </tr>\n",
       "    <tr>\n",
       "      <th>unique</th>\n",
       "      <td>11</td>\n",
       "      <td>NaN</td>\n",
       "      <td>NaN</td>\n",
       "      <td>NaN</td>\n",
       "      <td>NaN</td>\n",
       "      <td>11</td>\n",
       "      <td>38</td>\n",
       "      <td>40575</td>\n",
       "      <td>NaN</td>\n",
       "    </tr>\n",
       "    <tr>\n",
       "      <th>top</th>\n",
       "      <td>Labor Day</td>\n",
       "      <td>NaN</td>\n",
       "      <td>NaN</td>\n",
       "      <td>NaN</td>\n",
       "      <td>NaN</td>\n",
       "      <td>Clouds</td>\n",
       "      <td>sky is clear</td>\n",
       "      <td>2013-05-19 10:00:00</td>\n",
       "      <td>NaN</td>\n",
       "    </tr>\n",
       "    <tr>\n",
       "      <th>freq</th>\n",
       "      <td>7</td>\n",
       "      <td>NaN</td>\n",
       "      <td>NaN</td>\n",
       "      <td>NaN</td>\n",
       "      <td>NaN</td>\n",
       "      <td>15164</td>\n",
       "      <td>11665</td>\n",
       "      <td>6</td>\n",
       "      <td>NaN</td>\n",
       "    </tr>\n",
       "    <tr>\n",
       "      <th>mean</th>\n",
       "      <td>NaN</td>\n",
       "      <td>281.205870</td>\n",
       "      <td>0.334264</td>\n",
       "      <td>0.000222</td>\n",
       "      <td>49.362231</td>\n",
       "      <td>NaN</td>\n",
       "      <td>NaN</td>\n",
       "      <td>NaN</td>\n",
       "      <td>3259.818355</td>\n",
       "    </tr>\n",
       "    <tr>\n",
       "      <th>std</th>\n",
       "      <td>NaN</td>\n",
       "      <td>13.338232</td>\n",
       "      <td>44.789133</td>\n",
       "      <td>0.008168</td>\n",
       "      <td>39.015750</td>\n",
       "      <td>NaN</td>\n",
       "      <td>NaN</td>\n",
       "      <td>NaN</td>\n",
       "      <td>1986.860670</td>\n",
       "    </tr>\n",
       "    <tr>\n",
       "      <th>min</th>\n",
       "      <td>NaN</td>\n",
       "      <td>0.000000</td>\n",
       "      <td>0.000000</td>\n",
       "      <td>0.000000</td>\n",
       "      <td>0.000000</td>\n",
       "      <td>NaN</td>\n",
       "      <td>NaN</td>\n",
       "      <td>NaN</td>\n",
       "      <td>0.000000</td>\n",
       "    </tr>\n",
       "    <tr>\n",
       "      <th>25%</th>\n",
       "      <td>NaN</td>\n",
       "      <td>272.160000</td>\n",
       "      <td>0.000000</td>\n",
       "      <td>0.000000</td>\n",
       "      <td>1.000000</td>\n",
       "      <td>NaN</td>\n",
       "      <td>NaN</td>\n",
       "      <td>NaN</td>\n",
       "      <td>1193.000000</td>\n",
       "    </tr>\n",
       "    <tr>\n",
       "      <th>50%</th>\n",
       "      <td>NaN</td>\n",
       "      <td>282.450000</td>\n",
       "      <td>0.000000</td>\n",
       "      <td>0.000000</td>\n",
       "      <td>64.000000</td>\n",
       "      <td>NaN</td>\n",
       "      <td>NaN</td>\n",
       "      <td>NaN</td>\n",
       "      <td>3380.000000</td>\n",
       "    </tr>\n",
       "    <tr>\n",
       "      <th>75%</th>\n",
       "      <td>NaN</td>\n",
       "      <td>291.806000</td>\n",
       "      <td>0.000000</td>\n",
       "      <td>0.000000</td>\n",
       "      <td>90.000000</td>\n",
       "      <td>NaN</td>\n",
       "      <td>NaN</td>\n",
       "      <td>NaN</td>\n",
       "      <td>4933.000000</td>\n",
       "    </tr>\n",
       "    <tr>\n",
       "      <th>max</th>\n",
       "      <td>NaN</td>\n",
       "      <td>310.070000</td>\n",
       "      <td>9831.300000</td>\n",
       "      <td>0.510000</td>\n",
       "      <td>100.000000</td>\n",
       "      <td>NaN</td>\n",
       "      <td>NaN</td>\n",
       "      <td>NaN</td>\n",
       "      <td>7280.000000</td>\n",
       "    </tr>\n",
       "  </tbody>\n",
       "</table>\n",
       "</div>"
      ],
      "text/plain": [
       "          holiday          temp       rain_1h       snow_1h    clouds_all  \\\n",
       "count          61  48204.000000  48204.000000  48204.000000  48204.000000   \n",
       "unique         11           NaN           NaN           NaN           NaN   \n",
       "top     Labor Day           NaN           NaN           NaN           NaN   \n",
       "freq            7           NaN           NaN           NaN           NaN   \n",
       "mean          NaN    281.205870      0.334264      0.000222     49.362231   \n",
       "std           NaN     13.338232     44.789133      0.008168     39.015750   \n",
       "min           NaN      0.000000      0.000000      0.000000      0.000000   \n",
       "25%           NaN    272.160000      0.000000      0.000000      1.000000   \n",
       "50%           NaN    282.450000      0.000000      0.000000     64.000000   \n",
       "75%           NaN    291.806000      0.000000      0.000000     90.000000   \n",
       "max           NaN    310.070000   9831.300000      0.510000    100.000000   \n",
       "\n",
       "       weather_main weather_description            date_time  traffic_volume  \n",
       "count         48204               48204                48204    48204.000000  \n",
       "unique           11                  38                40575             NaN  \n",
       "top          Clouds        sky is clear  2013-05-19 10:00:00             NaN  \n",
       "freq          15164               11665                    6             NaN  \n",
       "mean            NaN                 NaN                  NaN     3259.818355  \n",
       "std             NaN                 NaN                  NaN     1986.860670  \n",
       "min             NaN                 NaN                  NaN        0.000000  \n",
       "25%             NaN                 NaN                  NaN     1193.000000  \n",
       "50%             NaN                 NaN                  NaN     3380.000000  \n",
       "75%             NaN                 NaN                  NaN     4933.000000  \n",
       "max             NaN                 NaN                  NaN     7280.000000  "
      ]
     },
     "execution_count": 86,
     "metadata": {},
     "output_type": "execute_result"
    }
   ],
   "source": [
    "# Print summary statistics\n",
    "i94.describe(include='all')"
   ]
  },
  {
   "cell_type": "markdown",
   "metadata": {
    "cell_id": "a73ad313fe5640cc82dd2f1b9a6ea5fc",
    "deepnote_cell_type": "markdown"
   },
   "source": [
    "### Areas to Fix\n",
    "**Data Types**\n",
    "- [ ] Issue 1\n",
    "\n",
    "**Missing Data**\n",
    "- [ ] \n",
    "\n",
    "**Duplicate Rows**\n",
    "- [ ]\n",
    "\n",
    "**Uniqueness of Data**\n",
    "- [ ]\n",
    "\n",
    "**Data Range**\n",
    "- [ ]"
   ]
  },
  {
   "cell_type": "markdown",
   "metadata": {
    "cell_id": "a5bcbeb6e7f94451b008c8076cab7365",
    "deepnote_cell_type": "markdown"
   },
   "source": [
    "---"
   ]
  },
  {
   "cell_type": "markdown",
   "metadata": {
    "cell_id": "1c0e1aa8992949998540a19add96c70e",
    "deepnote_cell_type": "markdown"
   },
   "source": [
    "# 3"
   ]
  },
  {
   "cell_type": "markdown",
   "metadata": {
    "cell_id": "592b248d503e44b4b461ef82f9adf7a6",
    "deepnote_cell_type": "markdown"
   },
   "source": [
    "## Data Preprocessing"
   ]
  },
  {
   "cell_type": "markdown",
   "metadata": {
    "cell_id": "8be765b5461441988fb9d82f77530ea4",
    "deepnote_cell_type": "markdown"
   },
   "source": [
    "Here you can add sections like:\n",
    "\n",
    "- Renaming columns\n",
    "- Drop Redundant Columns\n",
    "- Changing Data Types\n",
    "- Dropping Duplicates\n",
    "- Handling Missing Values\n",
    "- Handling Unreasonable Data Ranges\n",
    "- Feature Engineering / Transformation\n",
    "\n",
    "Use `assert` where possible to show that preprocessing is done."
   ]
  },
  {
   "cell_type": "markdown",
   "metadata": {
    "cell_id": "c53e0f6956e54310bdb86f365995d21e",
    "deepnote_cell_type": "markdown"
   },
   "source": [
    "### Rename Columns"
   ]
  },
  {
   "cell_type": "code",
   "execution_count": 87,
   "metadata": {
    "cell_id": "bb233ddb67dd400283cd10ee262c03c6",
    "deepnote_cell_type": "code",
    "deepnote_to_be_reexecuted": false,
    "execution_millis": 5,
    "execution_start": 1684082034538,
    "source_hash": "9100c620"
   },
   "outputs": [],
   "source": [
    "# Rename columns to snake_case\n",
    "i94 = sp.clean_columns(i94, replace={})"
   ]
  },
  {
   "cell_type": "code",
   "execution_count": 88,
   "metadata": {
    "cell_id": "0990dadbacb64e018a7f339755a8abcb",
    "deepnote_cell_type": "code",
    "deepnote_to_be_reexecuted": false,
    "execution_millis": 3,
    "execution_start": 1684082034540,
    "source_hash": "fb618630"
   },
   "outputs": [],
   "source": [
    "# Rename columns\n",
    "columns_to_rename = {\"snow_1h\":\"snow\", \"rain_1h\":\"rain\"}\n",
    "i94.rename(columns=columns_to_rename, inplace=True)"
   ]
  },
  {
   "cell_type": "code",
   "execution_count": 89,
   "metadata": {
    "cell_id": "d7c6bd3c71f84ddca59fce3a8d0858ab",
    "deepnote_cell_type": "code",
    "deepnote_to_be_reexecuted": false,
    "execution_millis": 4,
    "execution_start": 1684082034540,
    "source_hash": "e9141d00"
   },
   "outputs": [
    {
     "data": {
      "text/plain": [
       "Index(['holiday', 'temp', 'rain', 'snow', 'clouds_all', 'weather_main',\n",
       "       'weather_description', 'date_time', 'traffic_volume'],\n",
       "      dtype='object')"
      ]
     },
     "execution_count": 89,
     "metadata": {},
     "output_type": "execute_result"
    }
   ],
   "source": [
    "# Verify columns are renamed\n",
    "i94.columns"
   ]
  },
  {
   "cell_type": "markdown",
   "metadata": {
    "cell_id": "5a44d491b9714a98aca3e40a2e51c02e",
    "deepnote_cell_type": "markdown"
   },
   "source": [
    "### Changing Data Types"
   ]
  },
  {
   "cell_type": "code",
   "execution_count": 189,
   "metadata": {
    "cell_id": "be0c0625c2db4b53bcb94ef0e655b5cb",
    "deepnote_cell_type": "code",
    "deepnote_to_be_reexecuted": false,
    "execution_millis": 1,
    "execution_start": 1684082034588,
    "source_hash": "9fd78d41"
   },
   "outputs": [
    {
     "name": "stderr",
     "output_type": "stream",
     "text": [
      "/var/folders/w7/rrtkbjkd5wz7hqg95t2p7m780000gn/T/ipykernel_93198/1528526377.py:7: UserWarning: The argument 'infer_datetime_format' is deprecated and will be removed in a future version. A strict version of it is now the default, see https://pandas.pydata.org/pdeps/0004-consistent-to-datetime-parsing.html. You can safely remove this argument.\n",
      "  i94[\"date_time\"] = pd.to_datetime(i94[\"date_time\"], infer_datetime_format=True)\n"
     ]
    }
   ],
   "source": [
    "# Convert columns to the right data types\n",
    "i94[\"temp\"] = i94[\"temp\"].astype('float')\n",
    "i94[\"rain\"] = i94[\"rain\"].astype('float')\n",
    "i94[\"snow\"] = i94[\"snow\"].astype('float')\n",
    "i94[\"clouds_all\"] = i94[\"clouds_all\"].astype('float')\n",
    "i94[\"weather_description\"] = i94[\"weather_description\"].astype('string')\n",
    "i94[\"date_time\"] = pd.to_datetime(i94[\"date_time\"], infer_datetime_format=True)\n",
    "i94[\"traffic_volume\"] = i94[\"traffic_volume\"].astype('int')\n",
    "\n",
    "# Convert to categorical datatype\n",
    "i94['weather_main'] = pd.Categorical(i94['weather_main'])"
   ]
  },
  {
   "cell_type": "code",
   "execution_count": 190,
   "metadata": {
    "cell_id": "3c88b97c0317445c84c580b59f1d728e",
    "deepnote_cell_type": "code",
    "deepnote_to_be_reexecuted": false,
    "execution_millis": 12,
    "execution_start": 1684082034588,
    "source_hash": "96c40701"
   },
   "outputs": [
    {
     "data": {
      "text/plain": [
       "holiday                        object\n",
       "temp                          float64\n",
       "rain                          float64\n",
       "snow                          float64\n",
       "clouds_all                    float64\n",
       "weather_main                 category\n",
       "weather_description    string[python]\n",
       "date_time              datetime64[ns]\n",
       "traffic_volume                  int64\n",
       "hour                            int32\n",
       "day_of_week                  category\n",
       "month                           int32\n",
       "year                            int32\n",
       "dtype: object"
      ]
     },
     "execution_count": 190,
     "metadata": {},
     "output_type": "execute_result"
    }
   ],
   "source": [
    "# Verify conversion\n",
    "i94.dtypes"
   ]
  },
  {
   "cell_type": "markdown",
   "metadata": {
    "cell_id": "eaec5575662a4be589c3a7b61fe0cf06",
    "deepnote_cell_type": "markdown"
   },
   "source": [
    "### Dropping Duplicate Rows"
   ]
  },
  {
   "cell_type": "code",
   "execution_count": 92,
   "metadata": {
    "cell_id": "305ee61a5e70417ebae2407234c8c9bb",
    "deepnote_cell_type": "code",
    "deepnote_to_be_reexecuted": false,
    "execution_millis": 1,
    "execution_start": 1684082034633,
    "source_hash": "a141816e"
   },
   "outputs": [],
   "source": [
    "# # Drop entirely duplicated rows\n",
    "i94.drop_duplicates(inplace=True, ignore_index=True)"
   ]
  },
  {
   "cell_type": "code",
   "execution_count": 93,
   "metadata": {
    "cell_id": "ba4c707ea9a2404e93fb435662f5ff04",
    "deepnote_cell_type": "code",
    "deepnote_to_be_reexecuted": false,
    "execution_millis": 4,
    "execution_start": 1684082034633,
    "source_hash": "5427c87c"
   },
   "outputs": [],
   "source": [
    "# Verify rows dropped\n",
    "assert i94.duplicated().sum()==0"
   ]
  },
  {
   "cell_type": "markdown",
   "metadata": {
    "cell_id": "bf6fd640b9fe4be49dac37997978a636",
    "deepnote_cell_type": "markdown"
   },
   "source": [
    "# 4"
   ]
  },
  {
   "cell_type": "markdown",
   "metadata": {},
   "source": [
    "# Feature Engineering\n",
    "\n",
    "Adding hour, day, month, year column for further analysis"
   ]
  },
  {
   "cell_type": "code",
   "execution_count": 94,
   "metadata": {},
   "outputs": [
    {
     "data": {
      "text/html": [
       "<div>\n",
       "<style scoped>\n",
       "    .dataframe tbody tr th:only-of-type {\n",
       "        vertical-align: middle;\n",
       "    }\n",
       "\n",
       "    .dataframe tbody tr th {\n",
       "        vertical-align: top;\n",
       "    }\n",
       "\n",
       "    .dataframe thead th {\n",
       "        text-align: right;\n",
       "    }\n",
       "</style>\n",
       "<table border=\"1\" class=\"dataframe\">\n",
       "  <thead>\n",
       "    <tr style=\"text-align: right;\">\n",
       "      <th></th>\n",
       "      <th>holiday</th>\n",
       "      <th>temp</th>\n",
       "      <th>rain</th>\n",
       "      <th>snow</th>\n",
       "      <th>clouds_all</th>\n",
       "      <th>weather_main</th>\n",
       "      <th>weather_description</th>\n",
       "      <th>date_time</th>\n",
       "      <th>traffic_volume</th>\n",
       "      <th>hour</th>\n",
       "      <th>day_of_week</th>\n",
       "      <th>month</th>\n",
       "      <th>year</th>\n",
       "    </tr>\n",
       "  </thead>\n",
       "  <tbody>\n",
       "    <tr>\n",
       "      <th>0</th>\n",
       "      <td>NaN</td>\n",
       "      <td>288.28</td>\n",
       "      <td>0.0</td>\n",
       "      <td>0.0</td>\n",
       "      <td>40</td>\n",
       "      <td>Clouds</td>\n",
       "      <td>scattered clouds</td>\n",
       "      <td>2012-10-02 09:00:00</td>\n",
       "      <td>5545</td>\n",
       "      <td>9</td>\n",
       "      <td>Tuesday</td>\n",
       "      <td>10</td>\n",
       "      <td>2012</td>\n",
       "    </tr>\n",
       "    <tr>\n",
       "      <th>1</th>\n",
       "      <td>NaN</td>\n",
       "      <td>289.36</td>\n",
       "      <td>0.0</td>\n",
       "      <td>0.0</td>\n",
       "      <td>75</td>\n",
       "      <td>Clouds</td>\n",
       "      <td>broken clouds</td>\n",
       "      <td>2012-10-02 10:00:00</td>\n",
       "      <td>4516</td>\n",
       "      <td>10</td>\n",
       "      <td>Tuesday</td>\n",
       "      <td>10</td>\n",
       "      <td>2012</td>\n",
       "    </tr>\n",
       "    <tr>\n",
       "      <th>2</th>\n",
       "      <td>NaN</td>\n",
       "      <td>289.58</td>\n",
       "      <td>0.0</td>\n",
       "      <td>0.0</td>\n",
       "      <td>90</td>\n",
       "      <td>Clouds</td>\n",
       "      <td>overcast clouds</td>\n",
       "      <td>2012-10-02 11:00:00</td>\n",
       "      <td>4767</td>\n",
       "      <td>11</td>\n",
       "      <td>Tuesday</td>\n",
       "      <td>10</td>\n",
       "      <td>2012</td>\n",
       "    </tr>\n",
       "    <tr>\n",
       "      <th>3</th>\n",
       "      <td>NaN</td>\n",
       "      <td>290.13</td>\n",
       "      <td>0.0</td>\n",
       "      <td>0.0</td>\n",
       "      <td>90</td>\n",
       "      <td>Clouds</td>\n",
       "      <td>overcast clouds</td>\n",
       "      <td>2012-10-02 12:00:00</td>\n",
       "      <td>5026</td>\n",
       "      <td>12</td>\n",
       "      <td>Tuesday</td>\n",
       "      <td>10</td>\n",
       "      <td>2012</td>\n",
       "    </tr>\n",
       "    <tr>\n",
       "      <th>4</th>\n",
       "      <td>NaN</td>\n",
       "      <td>291.14</td>\n",
       "      <td>0.0</td>\n",
       "      <td>0.0</td>\n",
       "      <td>75</td>\n",
       "      <td>Clouds</td>\n",
       "      <td>broken clouds</td>\n",
       "      <td>2012-10-02 13:00:00</td>\n",
       "      <td>4918</td>\n",
       "      <td>13</td>\n",
       "      <td>Tuesday</td>\n",
       "      <td>10</td>\n",
       "      <td>2012</td>\n",
       "    </tr>\n",
       "    <tr>\n",
       "      <th>...</th>\n",
       "      <td>...</td>\n",
       "      <td>...</td>\n",
       "      <td>...</td>\n",
       "      <td>...</td>\n",
       "      <td>...</td>\n",
       "      <td>...</td>\n",
       "      <td>...</td>\n",
       "      <td>...</td>\n",
       "      <td>...</td>\n",
       "      <td>...</td>\n",
       "      <td>...</td>\n",
       "      <td>...</td>\n",
       "      <td>...</td>\n",
       "    </tr>\n",
       "    <tr>\n",
       "      <th>48182</th>\n",
       "      <td>NaN</td>\n",
       "      <td>283.45</td>\n",
       "      <td>0.0</td>\n",
       "      <td>0.0</td>\n",
       "      <td>75</td>\n",
       "      <td>Clouds</td>\n",
       "      <td>broken clouds</td>\n",
       "      <td>2018-09-30 19:00:00</td>\n",
       "      <td>3543</td>\n",
       "      <td>19</td>\n",
       "      <td>Sunday</td>\n",
       "      <td>9</td>\n",
       "      <td>2018</td>\n",
       "    </tr>\n",
       "    <tr>\n",
       "      <th>48183</th>\n",
       "      <td>NaN</td>\n",
       "      <td>282.76</td>\n",
       "      <td>0.0</td>\n",
       "      <td>0.0</td>\n",
       "      <td>90</td>\n",
       "      <td>Clouds</td>\n",
       "      <td>overcast clouds</td>\n",
       "      <td>2018-09-30 20:00:00</td>\n",
       "      <td>2781</td>\n",
       "      <td>20</td>\n",
       "      <td>Sunday</td>\n",
       "      <td>9</td>\n",
       "      <td>2018</td>\n",
       "    </tr>\n",
       "    <tr>\n",
       "      <th>48184</th>\n",
       "      <td>NaN</td>\n",
       "      <td>282.73</td>\n",
       "      <td>0.0</td>\n",
       "      <td>0.0</td>\n",
       "      <td>90</td>\n",
       "      <td>Thunderstorm</td>\n",
       "      <td>proximity thunderstorm</td>\n",
       "      <td>2018-09-30 21:00:00</td>\n",
       "      <td>2159</td>\n",
       "      <td>21</td>\n",
       "      <td>Sunday</td>\n",
       "      <td>9</td>\n",
       "      <td>2018</td>\n",
       "    </tr>\n",
       "    <tr>\n",
       "      <th>48185</th>\n",
       "      <td>NaN</td>\n",
       "      <td>282.09</td>\n",
       "      <td>0.0</td>\n",
       "      <td>0.0</td>\n",
       "      <td>90</td>\n",
       "      <td>Clouds</td>\n",
       "      <td>overcast clouds</td>\n",
       "      <td>2018-09-30 22:00:00</td>\n",
       "      <td>1450</td>\n",
       "      <td>22</td>\n",
       "      <td>Sunday</td>\n",
       "      <td>9</td>\n",
       "      <td>2018</td>\n",
       "    </tr>\n",
       "    <tr>\n",
       "      <th>48186</th>\n",
       "      <td>NaN</td>\n",
       "      <td>282.12</td>\n",
       "      <td>0.0</td>\n",
       "      <td>0.0</td>\n",
       "      <td>90</td>\n",
       "      <td>Clouds</td>\n",
       "      <td>overcast clouds</td>\n",
       "      <td>2018-09-30 23:00:00</td>\n",
       "      <td>954</td>\n",
       "      <td>23</td>\n",
       "      <td>Sunday</td>\n",
       "      <td>9</td>\n",
       "      <td>2018</td>\n",
       "    </tr>\n",
       "  </tbody>\n",
       "</table>\n",
       "<p>48187 rows × 13 columns</p>\n",
       "</div>"
      ],
      "text/plain": [
       "      holiday    temp  rain  snow  clouds_all  weather_main  \\\n",
       "0         NaN  288.28   0.0   0.0          40        Clouds   \n",
       "1         NaN  289.36   0.0   0.0          75        Clouds   \n",
       "2         NaN  289.58   0.0   0.0          90        Clouds   \n",
       "3         NaN  290.13   0.0   0.0          90        Clouds   \n",
       "4         NaN  291.14   0.0   0.0          75        Clouds   \n",
       "...       ...     ...   ...   ...         ...           ...   \n",
       "48182     NaN  283.45   0.0   0.0          75        Clouds   \n",
       "48183     NaN  282.76   0.0   0.0          90        Clouds   \n",
       "48184     NaN  282.73   0.0   0.0          90  Thunderstorm   \n",
       "48185     NaN  282.09   0.0   0.0          90        Clouds   \n",
       "48186     NaN  282.12   0.0   0.0          90        Clouds   \n",
       "\n",
       "          weather_description           date_time  traffic_volume  hour  \\\n",
       "0            scattered clouds 2012-10-02 09:00:00            5545     9   \n",
       "1               broken clouds 2012-10-02 10:00:00            4516    10   \n",
       "2             overcast clouds 2012-10-02 11:00:00            4767    11   \n",
       "3             overcast clouds 2012-10-02 12:00:00            5026    12   \n",
       "4               broken clouds 2012-10-02 13:00:00            4918    13   \n",
       "...                       ...                 ...             ...   ...   \n",
       "48182           broken clouds 2018-09-30 19:00:00            3543    19   \n",
       "48183         overcast clouds 2018-09-30 20:00:00            2781    20   \n",
       "48184  proximity thunderstorm 2018-09-30 21:00:00            2159    21   \n",
       "48185         overcast clouds 2018-09-30 22:00:00            1450    22   \n",
       "48186         overcast clouds 2018-09-30 23:00:00             954    23   \n",
       "\n",
       "      day_of_week  month  year  \n",
       "0         Tuesday     10  2012  \n",
       "1         Tuesday     10  2012  \n",
       "2         Tuesday     10  2012  \n",
       "3         Tuesday     10  2012  \n",
       "4         Tuesday     10  2012  \n",
       "...           ...    ...   ...  \n",
       "48182      Sunday      9  2018  \n",
       "48183      Sunday      9  2018  \n",
       "48184      Sunday      9  2018  \n",
       "48185      Sunday      9  2018  \n",
       "48186      Sunday      9  2018  \n",
       "\n",
       "[48187 rows x 13 columns]"
      ]
     },
     "execution_count": 94,
     "metadata": {},
     "output_type": "execute_result"
    }
   ],
   "source": [
    "i94[\"hour\"] = i94['date_time'].dt.hour\n",
    "\n",
    "i94[\"day_of_week\"] = i94['date_time'].dt.day_name()\n",
    "\n",
    "i94[\"month\"] = i94['date_time'].dt.month\n",
    "\n",
    "i94[\"year\"] = i94['date_time'].dt.year\n",
    "\n",
    "i94"
   ]
  },
  {
   "cell_type": "markdown",
   "metadata": {
    "cell_id": "04c62bb80ece4a5f905f42c5ff5fe035",
    "deepnote_cell_type": "markdown"
   },
   "source": [
    "## Data Analysis\n",
    "\n",
    "### Exploring `Traffic Volume`\n",
    "\n",
    "First, we are going to examine the distribution of the traffic_volume column"
   ]
  },
  {
   "cell_type": "code",
   "execution_count": 95,
   "metadata": {},
   "outputs": [
    {
     "data": {
      "image/png": "[encoded data removed]",
      "text/plain": [
       "<Figure size 640x480 with 1 Axes>"
      ]
     },
     "metadata": {},
     "output_type": "display_data"
    }
   ],
   "source": [
    "plt.hist(i94[\"traffic_volume\"])\n",
    "plt.ylabel(\"Frequency\")\n",
    "plt.show()"
   ]
  },
  {
   "cell_type": "code",
   "execution_count": 96,
   "metadata": {},
   "outputs": [
    {
     "data": {
      "text/plain": [
       "count    48187.000000\n",
       "mean      3259.618134\n",
       "std       1986.954465\n",
       "min          0.000000\n",
       "25%       1192.500000\n",
       "50%       3379.000000\n",
       "75%       4933.000000\n",
       "max       7280.000000\n",
       "Name: traffic_volume, dtype: float64"
      ]
     },
     "execution_count": 96,
     "metadata": {},
     "output_type": "execute_result"
    }
   ],
   "source": [
    "i94[\"traffic_volume\"].describe()"
   ]
  },
  {
   "cell_type": "markdown",
   "metadata": {},
   "source": [
    "As shown in the graph, the data tends to lead towards a bimodal distribution, with there being approximately 8000 counts of traffic being less than a 1000 and also 8000 counts of traffic being in the 4000 - 5000 range\n",
    "\n",
    "As shown by the summary of our data, the 25th percentile bout 1192, which means that about 25% of the time, there were only 1193 cars passing the station each hour. \n",
    "\n",
    "The 75th percentile shows that about 25% of the time, the traffic volume was about 4933, which is 4x larger.\n",
    "\n",
    "Because there is a bimodal distribution and varying amounts of data, this observation shows us that we should dive into the direction of comparing daytime and nighttime data"
   ]
  },
  {
   "cell_type": "markdown",
   "metadata": {
    "cell_id": "d33995822de34fc1bd31fce802ec9512",
    "deepnote_cell_type": "markdown"
   },
   "source": [
    "## Traffic Volume: Day vs. Night\n",
    "In order to achieve this goal of explanining daytime and nighttime data, we'll divide the dataset into two parts:\n",
    "- Daytime data: hours from 7AM to 7PM\n",
    "- Nighttime data: hours from 7PM to 7AM "
   ]
  },
  {
   "cell_type": "code",
   "execution_count": 97,
   "metadata": {},
   "outputs": [
    {
     "name": "stdout",
     "output_type": "stream",
     "text": [
      "(23867, 13)\n",
      "(24320, 13)\n"
     ]
    }
   ],
   "source": [
    "day = i94.copy()[(i94[\"hour\"] >= 7) & (i94[\"hour\"] < 19)]\n",
    "night = i94.copy()[(i94[\"hour\"] >= 19) | (i94[\"hour\"] < 7)]\n",
    "\n",
    "print(day.shape)\n",
    "print(night.shape)"
   ]
  },
  {
   "cell_type": "markdown",
   "metadata": {},
   "source": [
    "## Traffic Volume: Day vs. Night (II)\n",
    "\n",
    "After separating our dataset into `day` and `night`, we will now plot histograms again to look at the distributions of traffic volume using `plt.subplot`"
   ]
  },
  {
   "cell_type": "code",
   "execution_count": 98,
   "metadata": {},
   "outputs": [
    {
     "data": {
      "image/png": "[encoded data removed]",
      "text/plain": [
       "<Figure size 1000x500 with 2 Axes>"
      ]
     },
     "metadata": {},
     "output_type": "display_data"
    }
   ],
   "source": [
    "plt.figure(figsize=(10, 5))\n",
    "\n",
    "plt.subplot(1, 2, 1)\n",
    "plt.hist(day[\"traffic_volume\"])\n",
    "plt.title(\"Traffic Volume: Day\")\n",
    "plt.ylabel(\"Frequency\")\n",
    "plt.xlabel(\"Traffic Volume\")\n",
    "\n",
    "plt.subplot(1, 2, 2)\n",
    "plt.hist(night[\"traffic_volume\"])\n",
    "plt.title(\"Traffic Volume: Night\")\n",
    "plt.ylabel(\"Frequency\")\n",
    "plt.xlabel(\"Traffic Volume\")\n",
    "\n",
    "plt.tight_layout()\n",
    "plt.show()"
   ]
  },
  {
   "cell_type": "code",
   "execution_count": 99,
   "metadata": {},
   "outputs": [
    {
     "data": {
      "text/plain": [
       "count    23867.000000\n",
       "mean      4762.033351\n",
       "std       1174.763788\n",
       "min          0.000000\n",
       "25%       4252.000000\n",
       "50%       4820.000000\n",
       "75%       5559.000000\n",
       "max       7280.000000\n",
       "Name: traffic_volume, dtype: float64"
      ]
     },
     "execution_count": 99,
     "metadata": {},
     "output_type": "execute_result"
    }
   ],
   "source": [
    "day.traffic_volume.describe()"
   ]
  },
  {
   "cell_type": "code",
   "execution_count": 100,
   "metadata": {},
   "outputs": [
    {
     "data": {
      "text/plain": [
       "count    24320.000000\n",
       "mean      1785.187870\n",
       "std       1441.840234\n",
       "min          0.000000\n",
       "25%        530.000000\n",
       "50%       1286.500000\n",
       "75%       2819.000000\n",
       "max       6386.000000\n",
       "Name: traffic_volume, dtype: float64"
      ]
     },
     "execution_count": 100,
     "metadata": {},
     "output_type": "execute_result"
    }
   ],
   "source": [
    "night.traffic_volume.describe()"
   ]
  },
  {
   "cell_type": "markdown",
   "metadata": {},
   "source": [
    "Day histogram is left skewed. Description also shows that about 4820 (about 5000) is the median traffic volume during the day. We can use this value as our value of determination for rush hour or high traffic volume.\n",
    "\n",
    "Night histogram is right skewed. Description also shows that 1286 is the median traffic volume during the night. Traffic is shown as generally light in comparison to the day histogram.\n",
    "\n",
    "Because traffic at night is generally night and we want to analyze possible rush hours, we will exclusively look at our data for day hours (7AM - 7PM)"
   ]
  },
  {
   "cell_type": "markdown",
   "metadata": {},
   "source": [
    "### Brief Overview of Traffic Volume across Time"
   ]
  },
  {
   "cell_type": "code",
   "execution_count": 126,
   "metadata": {
    "cell_id": "a0799ba8c0e442b781527eb0245304ab",
    "deepnote_cell_type": "code",
    "deepnote_to_be_reexecuted": false,
    "execution_millis": 1,
    "execution_start": 1684082034685,
    "source_hash": "9ecaa010"
   },
   "outputs": [
    {
     "name": "stderr",
     "output_type": "stream",
     "text": [
      "/var/folders/w7/rrtkbjkd5wz7hqg95t2p7m780000gn/T/ipykernel_93198/3668061485.py:6: FutureWarning: The default of observed=False is deprecated and will be changed to True in a future version of pandas. Pass observed=False to retain current behavior or observed=True to adopt the future default and silence this warning.\n",
      "  day_traffic = day.groupby(\"day_of_week\").traffic_volume.mean()\n"
     ]
    },
    {
     "data": {
      "image/png": "[encoded data removed]",
      "text/plain": [
       "<Figure size 640x480 with 4 Axes>"
      ]
     },
     "metadata": {},
     "output_type": "display_data"
    }
   ],
   "source": [
    "year_traffic = day.groupby(\"year\").traffic_volume.mean()\n",
    "month_traffic = day.groupby(\"month\").traffic_volume.mean()\n",
    "hour_traffic = day.groupby(\"hour\").traffic_volume.mean()\n",
    "\n",
    "day['day_of_week'] = pd.Categorical(day['day_of_week'], categories=[\"Monday\", \"Tuesday\", \"Wednesday\", \"Thursday\", \"Friday\", \"Saturday\", \"Sunday\"], ordered=True)\n",
    "day_traffic = day.groupby(\"day_of_week\").traffic_volume.mean()\n",
    "\n",
    "plt.subplot(2, 2, 1)\n",
    "plt.plot(year_traffic.index, year_traffic.values)\n",
    "plt.xlabel(\"year\")\n",
    "plt.ylabel(\"mean traffic volume\")\n",
    "\n",
    "\n",
    "plt.subplot(2,2,2)\n",
    "plt.xticks(np.arange(0,13,1))\n",
    "plt.plot(month_traffic.index, month_traffic.values)\n",
    "plt.xlabel(\"month\")\n",
    "plt.ylabel(\"mean traffic volume\")\n",
    "\n",
    "plt.subplot(2,2,3)\n",
    "plt.plot(day_traffic.index, day_traffic.values)\n",
    "plt.xticks(rotation=45)\n",
    "plt.ylabel(\"mean traffic volume\")\n",
    "\n",
    "plt.subplot(2,2,4)\n",
    "plt.plot(hour_traffic.index, hour_traffic.values)\n",
    "plt.xlabel(\"hour\")\n",
    "plt.ylabel(\"mean traffic volume\")\n",
    "\n",
    "plt.suptitle(\"Mean Traffic Volume\")\n",
    "plt.tight_layout() # Adjusts spacing\n",
    "plt.show()"
   ]
  },
  {
   "cell_type": "markdown",
   "metadata": {
    "cell_id": "519d71f9a0c94ae3b52d04713680e2d0",
    "deepnote_cell_type": "markdown"
   },
   "source": [
    "**Observations**\n",
    "- Mean Traffic Volume tends to be consistent across each year and month\n",
    "- During weekends, the mean traffic volume is significanly less during the weekend\n",
    "- Early morning/late night hours tend to have less trafic\n",
    "\n",
    "We've already observed how mean traffic volume can vary hour to hour. Let's dive deeper into how mean traffic volume can vary across year, month, and day of the week."
   ]
  },
  {
   "cell_type": "markdown",
   "metadata": {},
   "source": [
    "## Time Indicators: Year and Month\n",
    "Indicators of heavy traffic include time. We already looked into how the hours of day vs night can affect traffic. First, we'll see if there are any observable differences in traffic volume across years\n",
    "\n",
    "Then we'll look into how traffic volume can be affected by:\n",
    "- month\n",
    "- day of the week\n",
    "- time of day"
   ]
  },
  {
   "cell_type": "code",
   "execution_count": 102,
   "metadata": {},
   "outputs": [
    {
     "data": {
      "image/png": "[encoded data removed]",
      "text/plain": [
       "<Figure size 640x480 with 1 Axes>"
      ]
     },
     "metadata": {},
     "output_type": "display_data"
    }
   ],
   "source": [
    "plt.plot(year_traffic)\n",
    "plt.show()"
   ]
  },
  {
   "cell_type": "markdown",
   "metadata": {},
   "source": [
    "As shown by the graph, there are two significant lows in 2012 and 2016. As shown by this [article](https://www.mprnews.org/story/2012/06/11/for-road-repairs-closing-highways-vs-limiting-traffic), traffic in 2012 is explained. As shown by this [article](https://www.freep.com/story/news/local/michigan/wayne/2016/06/07/road-construction-on-i94/85554670/), traffic in 2016 is explained."
   ]
  },
  {
   "cell_type": "code",
   "execution_count": 103,
   "metadata": {},
   "outputs": [
    {
     "data": {
      "image/png": "[encoded data removed]",
      "text/plain": [
       "<Figure size 640x480 with 1 Axes>"
      ]
     },
     "metadata": {},
     "output_type": "display_data"
    }
   ],
   "source": [
    "plt.plot(month_traffic)\n",
    "plt.show()"
   ]
  },
  {
   "cell_type": "markdown",
   "metadata": {},
   "source": [
    "As seen in the graph, colder months (November - February) tend to have less traffic coming through the station. This tends to follow the trend of less people going out during winter since the snowy weather tends to block roads. \n",
    "\n",
    "However, July's mean traffic volume is lower than warmer months (March - October). Let us dive deeper into how that data can possibly be lower."
   ]
  },
  {
   "cell_type": "code",
   "execution_count": 127,
   "metadata": {},
   "outputs": [
    {
     "name": "stderr",
     "output_type": "stream",
     "text": [
      "/var/folders/w7/rrtkbjkd5wz7hqg95t2p7m780000gn/T/ipykernel_93198/543945120.py:1: UserWarning: Boolean Series key will be reindexed to match DataFrame index.\n",
      "  july_data = day.copy()[(i94[\"month\"] == 7)]\n"
     ]
    },
    {
     "data": {
      "image/png": "[encoded data removed]",
      "text/plain": [
       "<Figure size 640x480 with 1 Axes>"
      ]
     },
     "metadata": {},
     "output_type": "display_data"
    }
   ],
   "source": [
    "july_data = day.copy()[(i94[\"month\"] == 7)]\n",
    "july_year_traffic = july_data.groupby(\"year\").traffic_volume.mean()\n",
    "\n",
    "plt.plot(july_year_traffic.index, july_year_traffic.values)\n",
    "plt.show()"
   ]
  },
  {
   "cell_type": "code",
   "execution_count": 113,
   "metadata": {},
   "outputs": [
    {
     "data": {
      "text/plain": [
       "count    4795.000000\n",
       "mean     3205.481752\n",
       "std      1940.092540\n",
       "min         0.000000\n",
       "25%      1212.000000\n",
       "50%      3268.000000\n",
       "75%      4829.000000\n",
       "max      7090.000000\n",
       "Name: traffic_volume, dtype: float64"
      ]
     },
     "execution_count": 113,
     "metadata": {},
     "output_type": "execute_result"
    }
   ],
   "source": [
    "july_data[\"traffic_volume\"].describe()"
   ]
  },
  {
   "cell_type": "markdown",
   "metadata": {},
   "source": [
    "As shown by the graph, July 2016 is a unique down month as explained by the previous [article](https://www.freep.com/story/news/local/michigan/wayne/2016/06/07/road-construction-on-i94/85554670/) (construction started mid June). However, other parts of the graph and the median (3268) show that mean traffic volume in July is regularly around other values in the warmer months. \n",
    "\n",
    "As a possible conclusion to our hypothesis, warmer months tend to have more traffic than colder months. One can expect warmer months to have a rush hour when mean traffic volume is at least 5,000."
   ]
  },
  {
   "cell_type": "markdown",
   "metadata": {},
   "source": [
    "## Time Indicators: Day of the Week\n",
    "\n",
    "Now, we will dive deeper into another possible time indicator of heavy traffic, the day of the week.\n",
    "\n",
    "Our preliminary hypothesis is that weekends will have less traffic than weekdays since there are likely less people going to work during the weekend."
   ]
  },
  {
   "cell_type": "code",
   "execution_count": 128,
   "metadata": {},
   "outputs": [
    {
     "data": {
      "image/png": "[encoded data removed]",
      "text/plain": [
       "<Figure size 640x480 with 1 Axes>"
      ]
     },
     "metadata": {},
     "output_type": "display_data"
    }
   ],
   "source": [
    "plt.plot(day_traffic)\n",
    "plt.show()"
   ]
  },
  {
   "cell_type": "markdown",
   "metadata": {},
   "source": [
    "Our graph looks like it proves our hypothesis. As seen in the graph, Monday - Friday mean traffic volume values tend to be in the 5000s, while Saturday and Sunday tend to see a lower value around the 3500-4000 values.\n",
    "\n",
    "Now, let's see if hours affect mean traffic volumes."
   ]
  },
  {
   "cell_type": "markdown",
   "metadata": {},
   "source": [
    "## Time Indicators: Hours of the Day"
   ]
  },
  {
   "cell_type": "code",
   "execution_count": 183,
   "metadata": {},
   "outputs": [
    {
     "data": {
      "image/png": "[encoded data removed]",
      "text/plain": [
       "<Figure size 1200x400 with 2 Axes>"
      ]
     },
     "metadata": {},
     "output_type": "display_data"
    }
   ],
   "source": [
    "weekday_data = day.copy()[(day[\"day_of_week\"] == \"Monday\") | (day[\"day_of_week\"] == \"Tuesday\") | \n",
    "                          (day[\"day_of_week\"] == \"Wednesday\") | (day[\"day_of_week\"] == \"Thursday\") | \n",
    "                          (day[\"day_of_week\"] == \"Friday\")]\n",
    "weekend_data = day.copy()[(day[\"day_of_week\"] == \"Saturday\") | (day[\"day_of_week\"] == \"Sunday\")]\n",
    "\n",
    "weekday_hour_traffic = weekday_data.groupby(\"hour\").traffic_volume.mean()\n",
    "weekend_hour_traffic = weekend_data.groupby(\"hour\").traffic_volume.mean()\n",
    "\n",
    "plt.figure(figsize=(12,4))\n",
    "\n",
    "plt.subplot(1,2,1)\n",
    "plt.plot(weekday_hour_traffic.index, weekday_hour_traffic.values)\n",
    "plt.ylim(1500,6500)\n",
    "plt.xlim(6,20)\n",
    "plt.title(\"Traffic Volume by Hour: Weekday\")\n",
    "\n",
    "plt.subplot(1,2,2)\n",
    "plt.plot(weekend_hour_traffic.index, weekend_hour_traffic.values)\n",
    "plt.ylim(1500,6500)\n",
    "plt.xlim(6,20)\n",
    "plt.title(\"Traffic Volume by Hour: Weekend\")\n",
    "\n",
    "plt.tight_layout()\n",
    "plt.show()"
   ]
  },
  {
   "cell_type": "markdown",
   "metadata": {},
   "source": [
    "At each time during the day, weekday traffic volume values are significantly higher than weekend traffic volume values. Weekday traffic volumes tend to peak during hours 7 and 16 (4pm), which is the time when most people are going to and leaving from respectively. \n",
    "\n",
    "To summarize:\n",
    "- We first separated our dataset into day and night hours in order to analyze typical mean traffic volume values during the day. Traffic is significantly less during the night\n",
    "- We analyzed mean traffic volume by year, in which we tentatively concluded that 2016 was a down year to major construction.\n",
    "- We analyzed mean traffic volume by month, where we saw that colder months (Nov - Feb) had less traffic than warmer months\n",
    "- We analyzed mean traffic volume by day of the week, where we observed that business days had more traffic volume than weekends. \n",
    "- We analyzed mean traffic volume by hour in which we saw that rush hours convene around hours 7 and 16, which are typical hours when people go to and leave work"
   ]
  },
  {
   "cell_type": "markdown",
   "metadata": {},
   "source": [
    "## Weather Indicators"
   ]
  },
  {
   "cell_type": "markdown",
   "metadata": {},
   "source": [
    "Next up, we will analyze whether there is any possible relationships between weather and traffic"
   ]
  },
  {
   "cell_type": "code",
   "execution_count": 192,
   "metadata": {},
   "outputs": [
    {
     "data": {
      "text/plain": [
       "temp              0.128248\n",
       "rain              0.003697\n",
       "snow              0.001266\n",
       "clouds_all       -0.032969\n",
       "traffic_volume    1.000000\n",
       "hour              0.172793\n",
       "month            -0.022286\n",
       "year             -0.003561\n",
       "Name: traffic_volume, dtype: float64"
      ]
     },
     "execution_count": 192,
     "metadata": {},
     "output_type": "execute_result"
    }
   ],
   "source": [
    "day.corr(numeric_only=True)['traffic_volume']"
   ]
  },
  {
   "cell_type": "markdown",
   "metadata": {},
   "source": [
    "Temperature shows the strongest correlation siwth traffic volume with a value of +0.13. All other values do not show a correlation. \n",
    "\n",
    "Let us plot a scatter plot between temp and traffic volume to see if there is any relationship."
   ]
  },
  {
   "cell_type": "code",
   "execution_count": 201,
   "metadata": {},
   "outputs": [
    {
     "data": {
      "image/png": "[encoded data removed]",
      "text/plain": [
       "<Figure size 640x480 with 1 Axes>"
      ]
     },
     "metadata": {},
     "output_type": "display_data"
    }
   ],
   "source": [
    "plt.scatter(day[\"traffic_volume\"], day[\"temp\"])\n",
    "plt.ylim(230, 320) # Two wrong 0K measurements mess up the scatter plot\n",
    "plt.ylabel(\"Temperature in K\")\n",
    "plt.xlabel(\"Traffic Volume\")\n",
    "plt.show()"
   ]
  },
  {
   "cell_type": "code",
   "execution_count": 202,
   "metadata": {},
   "outputs": [
    {
     "name": "stderr",
     "output_type": "stream",
     "text": [
      "/var/folders/w7/rrtkbjkd5wz7hqg95t2p7m780000gn/T/ipykernel_93198/1042385746.py:1: FutureWarning: The default of observed=False is deprecated and will be changed to True in a future version of pandas. Pass observed=False to retain current behavior or observed=True to adopt the future default and silence this warning.\n",
      "  weather_main_data = day.groupby(\"weather_main\").traffic_volume.mean()\n"
     ]
    },
    {
     "data": {
      "image/png": "[encoded data removed]",
      "text/plain": [
       "<Figure size 640x480 with 1 Axes>"
      ]
     },
     "metadata": {},
     "output_type": "display_data"
    }
   ],
   "source": [
    "weather_main_data = day.groupby(\"weather_main\").traffic_volume.mean()\n",
    "\n",
    "plt.barh(weather_main_data.index, weather_main_data.values)\n",
    "plt.show()"
   ]
  },
  {
   "cell_type": "markdown",
   "metadata": {},
   "source": [
    "We see that there are no values above 5000 for our general weather categories.\n",
    "\n",
    " Let us dive deeper into our the dataset's more specific weather descriptions to see if we can find anything."
   ]
  },
  {
   "cell_type": "code",
   "execution_count": 210,
   "metadata": {},
   "outputs": [
    {
     "data": {
      "image/png": "[encoded data removed]",
      "text/plain": [
       "<Figure size 500x1000 with 1 Axes>"
      ]
     },
     "metadata": {},
     "output_type": "display_data"
    }
   ],
   "source": [
    "weather_description_data = day.groupby(\"weather_description\").traffic_volume.mean()\n",
    "\n",
    "plt.figure(figsize=(5, 10))\n",
    "plt.barh(weather_description_data.index, weather_description_data.values)\n",
    "plt.show()"
   ]
  },
  {
   "cell_type": "markdown",
   "metadata": {},
   "source": [
    "As shown by our graph, there our three values above 5000:\n",
    "- light rain and snow\n",
    "- shower snow\n",
    "- proximity thunderstorm with drizzle\n",
    "\n",
    "This is not necessarily bad weather, but it makes sense that people would not be using cars during giant rainstorms or snowstorms. Bad weather might make people want to use their cars more instead of walking or waiting in the rain for public transportation."
   ]
  },
  {
   "cell_type": "markdown",
   "metadata": {
    "cell_id": "9ed14056610a4431a33549f334ca4373",
    "deepnote_cell_type": "markdown"
   },
   "source": [
    "---"
   ]
  },
  {
   "cell_type": "markdown",
   "metadata": {
    "cell_id": "363f7d89c38d4329981494d8e46aa259",
    "deepnote_cell_type": "markdown"
   },
   "source": [
    "# 5"
   ]
  },
  {
   "cell_type": "markdown",
   "metadata": {
    "cell_id": "c50a92f03c394aa69cc435090e3f6f56",
    "deepnote_cell_type": "markdown"
   },
   "source": [
    "## Conclusion \n",
    "### Time Indicators\n",
    "We were able to find multiple indicators of traffic based off time\n",
    "- Day and Night: More traffic during the day, less traffic during the night\n",
    "- Year: 2016 was a down year for traffic in our dataset ranging from 2012 to 2018. This might be due to significant construction projects\n",
    "- Month: More traffic during warmer months, less traffic during colder months\n",
    "- Day of Week: More traffic during weekdays, less traffic during weekends\n",
    "- Hour: Business day traffic tends to be more during 7AM and 4PM, which are two times that people tend to go to and leave from work respectively\n",
    "\n",
    "### Weather Indicators\n",
    "Three weather statuses had higher traffic volume values than others:\n",
    "- light rain and snow\n",
    "- shower snow\n",
    "- proximity thunderstorm with drizzle"
   ]
  },
  {
   "cell_type": "markdown",
   "metadata": {
    "cell_id": "44a747a8bb7d4e8faa57eb77012199c0",
    "deepnote_cell_type": "markdown"
   },
   "source": [
    "---"
   ]
  },
  {
   "cell_type": "markdown",
   "metadata": {
    "cell_id": "dd7702901c1249efb97b7686138360a1",
    "deepnote_cell_type": "markdown"
   },
   "source": [
    "# 6"
   ]
  },
  {
   "cell_type": "markdown",
   "metadata": {
    "cell_id": "3cfda3e06f4247cd810179189b9c4a00",
    "deepnote_cell_type": "markdown"
   },
   "source": [
    "## Epilogue\n",
    "\n",
    "### References\n",
    "\n",
    "Hogue, J. (2019). Metro Interstate Traffic Volume [Dataset]. UCI Machine Learning Repository. https://doi.org/10.24432/C5X60B."
   ]
  },
  {
   "cell_type": "markdown",
   "metadata": {
    "cell_id": "ebb51cba0a4846cd9056b8da1caced2b",
    "deepnote_cell_type": "markdown"
   },
   "source": [
    "### Versioning\n",
    "Notebook and insights by Jacob Ng.\n",
    "- Version: 1.0\n",
    "- Date: 2024-12-25 *Merry Christmas!*\n",
    "\n",
    "\n",
    "### Notes by Jacob for Jacob\n",
    "```\n",
    "Notes on Time Series:\n",
    "Pandas syntax\n",
    "- .dt.year: Extracts the year (e.g., 2024).\n",
    "- .dt.month: Extracts the month (e.g., 12).\n",
    "- .dt.day: Extracts the day of the month (e.g., 23).\n",
    "- .dt.hour: Extracts the hour (e.g., 8).\n",
    "- .dt.minute: Extracts the minute (e.g., 15).\n",
    "- .dt.second: Extracts the second (e.g., 0).\n",
    "- .dt.dayofweek: Returns the day of the week (e.g., 0 for Monday, 6 for Sunday).\n",
    "- .dt.date: Extracts only the date part (without time).\n",
    "- .dt.time: Extracts only the time part.\n",
    "```"
   ]
  },
  {
   "cell_type": "markdown",
   "metadata": {
    "created_in_deepnote_cell": true,
    "deepnote_cell_type": "markdown"
   },
   "source": [
    "<a style='text-decoration:none;line-height:16px;display:flex;color:#5B5B62;padding:10px;justify-content:end;' href='https://deepnote.com?utm_source=created-in-deepnote-cell&projectId=b689e16b-e36c-4f8c-b17a-b3e876352669' target=\"_blank\">\n",
    "<img alt='Created in deepnote.com' style='display:inline;max-height:16px;margin:0px;margin-right:7.5px;' src='data:image/svg+xml;base64,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' > </img>\n",
    "Created in <span style='font-weight:600;margin-left:4px;'>Deepnote</span></a>"
   ]
  }
 ],
 "metadata": {
  "deepnote": {},
  "deepnote_execution_queue": [],
  "deepnote_notebook_id": "8d49e53e32e14bc390f58737ab18c268",
  "deepnote_persisted_session": {
   "createdAt": "2023-04-06T16:20:59.951Z"
  },
  "kernelspec": {
   "display_name": "personal",
   "language": "python",
   "name": "python3"
  },
  "language_info": {
   "codemirror_mode": {
    "name": "ipython",
    "version": 3
   },
   "file_extension": ".py",
   "mimetype": "text/x-python",
   "name": "python",
   "nbconvert_exporter": "python",
   "pygments_lexer": "ipython3",
   "version": "3.13.1"
  }
 },
 "nbformat": 4,
 "nbformat_minor": 0
}
